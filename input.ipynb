{
 "cells": [
  {
   "cell_type": "code",
   "execution_count": 7,
   "id": "41da5a1b-8bd6-40af-b0f8-803310c5e75d",
   "metadata": {},
   "outputs": [
    {
     "name": "stdin",
     "output_type": "stream",
     "text": [
      " Nisha\n"
     ]
    }
   ],
   "source": [
    "# input\n",
    "name=input()"
   ]
  },
  {
   "cell_type": "code",
   "execution_count": 3,
   "id": "d65ee083-d21c-46a8-926d-77f5ba201213",
   "metadata": {},
   "outputs": [
    {
     "name": "stdout",
     "output_type": "stream",
     "text": [
      "Nisha\n"
     ]
    }
   ],
   "source": [
    "print(name)"
   ]
  },
  {
   "cell_type": "code",
   "execution_count": 5,
   "id": "b446bd1a-6b49-4b6d-8f7d-921dd3ab8771",
   "metadata": {},
   "outputs": [
    {
     "name": "stdout",
     "output_type": "stream",
     "text": [
      "<class 'str'>\n"
     ]
    }
   ],
   "source": [
    "print(type(name))"
   ]
  },
  {
   "cell_type": "code",
   "execution_count": 9,
   "id": "501bc61c-f392-4387-9d54-959db3a9829a",
   "metadata": {},
   "outputs": [],
   "source": [
    "# number as input"
   ]
  },
  {
   "cell_type": "code",
   "execution_count": 11,
   "id": "9e86d1a8-bad4-4be3-baee-fe5e11fa83f5",
   "metadata": {},
   "outputs": [
    {
     "name": "stdin",
     "output_type": "stream",
     "text": [
      " 31\n"
     ]
    }
   ],
   "source": [
    "Age = input()"
   ]
  },
  {
   "cell_type": "code",
   "execution_count": 15,
   "id": "4817d476-b158-434c-be0e-fa0fc7994d84",
   "metadata": {},
   "outputs": [
    {
     "name": "stdout",
     "output_type": "stream",
     "text": [
      "31\n",
      "<class 'str'>\n"
     ]
    }
   ],
   "source": [
    "print(Age)\n",
    "print(type(Age))"
   ]
  },
  {
   "cell_type": "code",
   "execution_count": 75,
   "id": "c5c92623-819d-4e6e-adf5-8f24cee4aee9",
   "metadata": {},
   "outputs": [
    {
     "name": "stdout",
     "output_type": "stream",
     "text": [
      "Hello Rahul\n"
     ]
    }
   ],
   "source": [
    "print(\"Hello\", \"Rahul\")"
   ]
  },
  {
   "cell_type": "code",
   "execution_count": 18,
   "id": "afef24dc-c20d-438e-b0c1-17d5864508b6",
   "metadata": {},
   "outputs": [],
   "source": [
    "# Type Conversion"
   ]
  },
  {
   "cell_type": "code",
   "execution_count": 22,
   "id": "511fa7ee-0512-43ad-bb4a-7419aa72671e",
   "metadata": {},
   "outputs": [
    {
     "data": {
      "text/plain": [
       "'31'"
      ]
     },
     "execution_count": 22,
     "metadata": {},
     "output_type": "execute_result"
    }
   ],
   "source": [
    "Age"
   ]
  },
  {
   "cell_type": "code",
   "execution_count": 24,
   "id": "d500b6e2-9889-45ea-a76e-f8e92eaa3a2f",
   "metadata": {},
   "outputs": [],
   "source": [
    "x=int(Age)"
   ]
  },
  {
   "cell_type": "code",
   "execution_count": 26,
   "id": "1013ef1d-1c48-4444-a6ef-83f4ea31edcc",
   "metadata": {},
   "outputs": [
    {
     "name": "stdout",
     "output_type": "stream",
     "text": [
      "<class 'int'>\n"
     ]
    }
   ],
   "source": [
    "print(type(x))"
   ]
  },
  {
   "cell_type": "code",
   "execution_count": 28,
   "id": "9d4a9b4a-f153-4082-a1f9-1bdeff82abbc",
   "metadata": {},
   "outputs": [
    {
     "name": "stdout",
     "output_type": "stream",
     "text": [
      "31\n"
     ]
    }
   ],
   "source": [
    "print(x)"
   ]
  },
  {
   "cell_type": "code",
   "execution_count": 65,
   "id": "a38fd3cd-5ca0-42f6-b46a-4771b6005851",
   "metadata": {},
   "outputs": [
    {
     "name": "stdin",
     "output_type": "stream",
     "text": [
      " 1.4\n"
     ]
    }
   ],
   "source": [
    "f=input()"
   ]
  },
  {
   "cell_type": "code",
   "execution_count": 67,
   "id": "2a94ed12-b864-4b42-9c54-4528aef65c2f",
   "metadata": {},
   "outputs": [
    {
     "name": "stdout",
     "output_type": "stream",
     "text": [
      "<class 'str'>\n"
     ]
    }
   ],
   "source": [
    "print(type(f))"
   ]
  },
  {
   "cell_type": "code",
   "execution_count": 79,
   "id": "7cc8c12d-fa16-436f-93e3-d7c798a574ff",
   "metadata": {},
   "outputs": [
    {
     "name": "stdout",
     "output_type": "stream",
     "text": [
      "Hello Rahul Are you excited?\n"
     ]
    }
   ],
   "source": [
    "print(\"Hello\", \"Rahul\",end=\" \")\n",
    "print(\"Are you excited?\")"
   ]
  },
  {
   "cell_type": "code",
   "execution_count": null,
   "id": "eb238d1e-8855-480a-98fa-07f917cd01e1",
   "metadata": {},
   "outputs": [],
   "source": []
  }
 ],
 "metadata": {
  "kernelspec": {
   "display_name": "Python 3 (ipykernel)",
   "language": "python",
   "name": "python3"
  },
  "language_info": {
   "codemirror_mode": {
    "name": "ipython",
    "version": 3
   },
   "file_extension": ".py",
   "mimetype": "text/x-python",
   "name": "python",
   "nbconvert_exporter": "python",
   "pygments_lexer": "ipython3",
   "version": "3.12.4"
  }
 },
 "nbformat": 4,
 "nbformat_minor": 5
}
