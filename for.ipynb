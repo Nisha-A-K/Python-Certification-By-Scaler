{
 "cells": [
  {
   "cell_type": "code",
   "execution_count": 1,
   "id": "fe0b75bf-4f80-4a69-967d-a67a0bb1a2ec",
   "metadata": {},
   "outputs": [],
   "source": [
    "# Range"
   ]
  },
  {
   "cell_type": "code",
   "execution_count": 3,
   "id": "f94ff4f4-2268-4c77-a408-fd54f4d81c2f",
   "metadata": {},
   "outputs": [
    {
     "data": {
      "text/plain": [
       "[0, 1, 2, 3, 4]"
      ]
     },
     "execution_count": 3,
     "metadata": {},
     "output_type": "execute_result"
    }
   ],
   "source": [
    "# start is 0 and jump is 1\n",
    "range(5)\n",
    "list(range(5))"
   ]
  },
  {
   "cell_type": "code",
   "execution_count": 5,
   "id": "1c1235f3-50f5-4578-a7fb-db230a1ee062",
   "metadata": {},
   "outputs": [
    {
     "data": {
      "text/plain": [
       "[1, 2, 3, 4]"
      ]
     },
     "execution_count": 5,
     "metadata": {},
     "output_type": "execute_result"
    }
   ],
   "source": [
    "# start is 1 and jump is 1\n",
    "list(range(1,5))"
   ]
  },
  {
   "cell_type": "code",
   "execution_count": 7,
   "id": "556772a3-9203-4645-a507-3b2574e6f148",
   "metadata": {},
   "outputs": [
    {
     "data": {
      "text/plain": [
       "[2, 3, 4]"
      ]
     },
     "execution_count": 7,
     "metadata": {},
     "output_type": "execute_result"
    }
   ],
   "source": [
    "# start is 2 and jump is 1\n",
    "list(range(2,5))"
   ]
  },
  {
   "cell_type": "code",
   "execution_count": 9,
   "id": "2c8a78e0-3e66-487d-8d16-0ba567fd77c4",
   "metadata": {},
   "outputs": [
    {
     "data": {
      "text/plain": [
       "[1, 3, 5, 7, 9]"
      ]
     },
     "execution_count": 9,
     "metadata": {},
     "output_type": "execute_result"
    }
   ],
   "source": [
    "# giving start, limit and jump respectively\n",
    "list(range(1,10,2))"
   ]
  },
  {
   "cell_type": "code",
   "execution_count": 11,
   "id": "3c581cc5-46f9-47eb-b127-0d0bff5813fb",
   "metadata": {},
   "outputs": [
    {
     "data": {
      "text/plain": [
       "[]"
      ]
     },
     "execution_count": 11,
     "metadata": {},
     "output_type": "execute_result"
    }
   ],
   "source": [
    "list(range(10,1,1))  # in valid jump"
   ]
  },
  {
   "cell_type": "code",
   "execution_count": 13,
   "id": "ae6bfbfa-e3d8-40a0-89f2-e9e141a8da00",
   "metadata": {},
   "outputs": [
    {
     "data": {
      "text/plain": [
       "[10, 9, 8, 7, 6, 5, 4, 3, 2]"
      ]
     },
     "execution_count": 13,
     "metadata": {},
     "output_type": "execute_result"
    }
   ],
   "source": [
    "list(range(10,1,-1))"
   ]
  },
  {
   "cell_type": "code",
   "execution_count": null,
   "id": "c835efdf-1ab0-4c05-b5df-e378102e246c",
   "metadata": {},
   "outputs": [],
   "source": []
  },
  {
   "cell_type": "code",
   "execution_count": null,
   "id": "2cd17372-6a5e-4016-8cb3-a5f5e1945b7b",
   "metadata": {},
   "outputs": [],
   "source": []
  },
  {
   "cell_type": "code",
   "execution_count": 17,
   "id": "fed87b6a-f1c3-411d-8176-92159926c945",
   "metadata": {},
   "outputs": [],
   "source": [
    "# for\n",
    "# i = iterator\n",
    "# range() = iterable"
   ]
  },
  {
   "cell_type": "code",
   "execution_count": 23,
   "id": "a8dd9b07-88b2-4805-bea8-98020656cc84",
   "metadata": {},
   "outputs": [
    {
     "name": "stdout",
     "output_type": "stream",
     "text": [
      "1 2 3 4 5 6 7 8 9 10 "
     ]
    }
   ],
   "source": [
    "for i in range(1,11):\n",
    "    print(i, end= \" \")"
   ]
  },
  {
   "cell_type": "code",
   "execution_count": null,
   "id": "045e4c5a-1537-41f8-a878-6a730bd10a1f",
   "metadata": {},
   "outputs": [],
   "source": []
  },
  {
   "cell_type": "code",
   "execution_count": 26,
   "id": "8308fe6c-2c1b-47cb-b84a-581494afe690",
   "metadata": {},
   "outputs": [],
   "source": [
    "# multiplication table of 5"
   ]
  },
  {
   "cell_type": "code",
   "execution_count": 30,
   "id": "64b1eef4-ccc6-4698-b005-c160d9e1a2fb",
   "metadata": {},
   "outputs": [
    {
     "name": "stdin",
     "output_type": "stream",
     "text": [
      " 4\n"
     ]
    },
    {
     "name": "stdout",
     "output_type": "stream",
     "text": [
      "4\n",
      "8\n",
      "12\n",
      "16\n",
      "20\n",
      "24\n",
      "28\n",
      "32\n",
      "36\n",
      "40\n"
     ]
    }
   ],
   "source": [
    "n=int(input())\n",
    "for i in range(1,11):\n",
    "    print(i*n)\n",
    "    "
   ]
  },
  {
   "cell_type": "code",
   "execution_count": null,
   "id": "441acd22-21d9-400d-ae3b-c1cdc132ec00",
   "metadata": {},
   "outputs": [],
   "source": []
  },
  {
   "cell_type": "code",
   "execution_count": 33,
   "id": "0f5c5b5c-760f-4df3-a69d-a260875014f0",
   "metadata": {},
   "outputs": [],
   "source": [
    "# print pattern"
   ]
  },
  {
   "cell_type": "code",
   "execution_count": 37,
   "id": "5fc00c37-6020-4df6-b1ea-2484449b9176",
   "metadata": {},
   "outputs": [
    {
     "name": "stdout",
     "output_type": "stream",
     "text": [
      "#\n",
      "#\n",
      "#\n",
      "#\n"
     ]
    }
   ],
   "source": [
    "for i in range(4):\n",
    "    print(\"#\")"
   ]
  },
  {
   "cell_type": "code",
   "execution_count": 41,
   "id": "3a5467fc-6b91-4409-b7a9-751f93b44f90",
   "metadata": {},
   "outputs": [
    {
     "name": "stdout",
     "output_type": "stream",
     "text": [
      "# # # # "
     ]
    }
   ],
   "source": [
    "for i in range(4):\n",
    "    print(\"#\", end = \" \")"
   ]
  },
  {
   "cell_type": "code",
   "execution_count": 45,
   "id": "8d52258d-83b0-441d-b88b-119276e3c77c",
   "metadata": {},
   "outputs": [
    {
     "name": "stdout",
     "output_type": "stream",
     "text": [
      "# # # # \n",
      "# # # # "
     ]
    }
   ],
   "source": [
    "for i in range(4):\n",
    "    print(\"#\", end = \" \")\n",
    "print()\n",
    "for i in range(4):    \n",
    "    print(\"#\", end = \" \")\n",
    "    "
   ]
  },
  {
   "cell_type": "code",
   "execution_count": 51,
   "id": "e59856aa-7ad8-4288-bacc-a23240f34afe",
   "metadata": {},
   "outputs": [
    {
     "name": "stdout",
     "output_type": "stream",
     "text": [
      "# # # # \n",
      "# # # # \n",
      "# # # # \n",
      "# # # # \n"
     ]
    }
   ],
   "source": [
    "for i in range(4):\n",
    "    for j in range(4):\n",
    "        print(\"#\", end = \" \")\n",
    "    print()"
   ]
  },
  {
   "cell_type": "code",
   "execution_count": null,
   "id": "e2ca8947-6775-44f4-9860-0fbe5dd4e4a1",
   "metadata": {},
   "outputs": [],
   "source": []
  },
  {
   "cell_type": "code",
   "execution_count": 54,
   "id": "caecc94e-3b93-45ce-be9d-615cddb64004",
   "metadata": {},
   "outputs": [],
   "source": [
    "# pattern 2"
   ]
  },
  {
   "cell_type": "code",
   "execution_count": 56,
   "id": "8540b821-fcff-4b00-8ffd-0ec668921808",
   "metadata": {},
   "outputs": [
    {
     "name": "stdin",
     "output_type": "stream",
     "text": [
      " 4\n"
     ]
    },
    {
     "name": "stdout",
     "output_type": "stream",
     "text": [
      "1\n",
      "2\n",
      "3\n",
      "4\n"
     ]
    }
   ],
   "source": [
    "n = int(input())\n",
    "for i in range(1,n+1):\n",
    "    print(i)\n"
   ]
  },
  {
   "cell_type": "code",
   "execution_count": 58,
   "id": "8dfc4748-e939-41da-9ae1-e66a0ab7145e",
   "metadata": {},
   "outputs": [
    {
     "name": "stdin",
     "output_type": "stream",
     "text": [
      " 4\n"
     ]
    },
    {
     "name": "stdout",
     "output_type": "stream",
     "text": [
      "*\n",
      "*\n",
      "*\n",
      "*\n"
     ]
    }
   ],
   "source": [
    "n = int(input())\n",
    "for i in range(1,n+1):\n",
    "    print(\"*\")"
   ]
  },
  {
   "cell_type": "code",
   "execution_count": 64,
   "id": "2fdf1930-6404-45f6-9b5f-2d8fc24f1353",
   "metadata": {},
   "outputs": [
    {
     "name": "stdin",
     "output_type": "stream",
     "text": [
      " 4\n"
     ]
    },
    {
     "name": "stdout",
     "output_type": "stream",
     "text": [
      "* \n",
      "* * \n",
      "* * * \n",
      "* * * * \n"
     ]
    }
   ],
   "source": [
    "n = int(input())\n",
    "for i in range(1,n+1):\n",
    "    for j in range(i):\n",
    "        print(\"*\", end = \" \")\n",
    "    print()"
   ]
  },
  {
   "cell_type": "code",
   "execution_count": null,
   "id": "72cd6863-b0a1-4a05-87db-4d1486906e62",
   "metadata": {},
   "outputs": [],
   "source": []
  }
 ],
 "metadata": {
  "kernelspec": {
   "display_name": "Python 3 (ipykernel)",
   "language": "python",
   "name": "python3"
  },
  "language_info": {
   "codemirror_mode": {
    "name": "ipython",
    "version": 3
   },
   "file_extension": ".py",
   "mimetype": "text/x-python",
   "name": "python",
   "nbconvert_exporter": "python",
   "pygments_lexer": "ipython3",
   "version": "3.12.4"
  }
 },
 "nbformat": 4,
 "nbformat_minor": 5
}
