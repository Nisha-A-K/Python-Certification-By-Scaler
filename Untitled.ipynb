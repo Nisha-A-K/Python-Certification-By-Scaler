{
 "cells": [
  {
   "cell_type": "code",
   "execution_count": 4,
   "id": "3ce92b4c-a600-4a7d-8acf-b82f6104ec5f",
   "metadata": {},
   "outputs": [],
   "source": [
    "def volume_sphere(r):\n",
    "    '''input: r = Input in integer format\n",
    "       output:return Vol of sphere upto two decimals'''\n",
    "    # YOUR CODE GOES HERE\n",
    "\n",
    "    R = input()\n",
    "    r = int(R)\n",
    "    pi = 22/7\n",
    "    Vol=float(4*pi*(r ** 3))/3\n",
    "    \n",
    "    return Vol\n"
   ]
  },
  {
   "cell_type": "code",
   "execution_count": null,
   "id": "345170db-a7d9-4e67-bccd-33a553a99b98",
   "metadata": {},
   "outputs": [],
   "source": [
    "def volume_sphere(r):"
   ]
  },
  {
   "cell_type": "code",
   "execution_count": 12,
   "id": "b0c32997-886f-4c33-9b85-13da04b365b7",
   "metadata": {},
   "outputs": [
    {
     "name": "stdin",
     "output_type": "stream",
     "text": [
      " 5\n"
     ]
    },
    {
     "ename": "SyntaxError",
     "evalue": "'return' outside function (1216103389.py, line 6)",
     "output_type": "error",
     "traceback": [
      "\u001b[1;36m  Cell \u001b[1;32mIn[12], line 6\u001b[1;36m\u001b[0m\n\u001b[1;33m    return Vol\u001b[0m\n\u001b[1;37m    ^\u001b[0m\n\u001b[1;31mSyntaxError\u001b[0m\u001b[1;31m:\u001b[0m 'return' outside function\n"
     ]
    }
   ],
   "source": [
    "R = input()\n",
    "r = int(R)\n",
    "pi = 22/7\n",
    "Vol=float(4*pi*(r ** 3))/3\n",
    "    \n",
    "return Vol"
   ]
  },
  {
   "cell_type": "code",
   "execution_count": 26,
   "id": "f7e2a396-7f62-49c6-9e6d-6f028f157074",
   "metadata": {},
   "outputs": [],
   "source": [
    "def volume_sphere(r):\n",
    "    R = input()\n",
    "    r = int(R)\n",
    "    pi = 22/7\n",
    "    Vol=float(4*pi*(r ** 3))/3\n",
    "    print(\"The volume of the sphere is: {Vol:.2f}\")\n",
    "    \n",
    "    return Vol\n"
   ]
  },
  {
   "cell_type": "code",
   "execution_count": 28,
   "id": "7e9fb99e-d984-4956-8ba9-c113ddd16166",
   "metadata": {},
   "outputs": [
    {
     "name": "stdout",
     "output_type": "stream",
     "text": [
      "<class 'float'>\n"
     ]
    }
   ],
   "source": [
    "print(type(6 / 3))"
   ]
  },
  {
   "cell_type": "code",
   "execution_count": 30,
   "id": "f3120c34-c424-40e1-a1f4-9c51721246a4",
   "metadata": {},
   "outputs": [
    {
     "name": "stdout",
     "output_type": "stream",
     "text": [
      "0\n"
     ]
    }
   ],
   "source": [
    "print(6 % 2)"
   ]
  },
  {
   "cell_type": "code",
   "execution_count": 34,
   "id": "11333cac-936b-4a02-9817-6b564e9b55f2",
   "metadata": {},
   "outputs": [
    {
     "name": "stdout",
     "output_type": "stream",
     "text": [
      "False\n"
     ]
    }
   ],
   "source": [
    "print( 2 >3 and 4< 2)"
   ]
  },
  {
   "cell_type": "code",
   "execution_count": 36,
   "id": "9df797d2-5afa-407d-8e2b-64fceb2790f1",
   "metadata": {},
   "outputs": [
    {
     "name": "stdout",
     "output_type": "stream",
     "text": [
      "1\n"
     ]
    }
   ],
   "source": [
    "print(0 or 1)"
   ]
  },
  {
   "cell_type": "code",
   "execution_count": 11,
   "id": "7f6ed897-cc9e-43bb-8f79-f1bba8c15e85",
   "metadata": {},
   "outputs": [
    {
     "ename": "NameError",
     "evalue": "name 'A' is not defined",
     "output_type": "error",
     "traceback": [
      "\u001b[1;31m---------------------------------------------------------------------------\u001b[0m",
      "\u001b[1;31mNameError\u001b[0m                                 Traceback (most recent call last)",
      "Cell \u001b[1;32mIn[11], line 9\u001b[0m\n\u001b[0;32m      7\u001b[0m         \u001b[38;5;28;01melse\u001b[39;00m:\n\u001b[0;32m      8\u001b[0m             \u001b[38;5;28;01mreturn\u001b[39;00m(\u001b[38;5;241m0\u001b[39m)\n\u001b[1;32m----> 9\u001b[0m solve(A)\n",
      "\u001b[1;31mNameError\u001b[0m: name 'A' is not defined"
     ]
    }
   ],
   "source": [
    "def solve(self, A):\n",
    "        A = int(input())\n",
    "        if(A%400 == 0):\n",
    "            return(1)\n",
    "            if(A%4 ==0 and A%100 != 0):\n",
    "                return(1)\n",
    "        else:\n",
    "            return(0)\n"
   ]
  },
  {
   "cell_type": "code",
   "execution_count": 13,
   "id": "d44ff480-aea7-4cdc-897b-a0eb6b2728e5",
   "metadata": {},
   "outputs": [],
   "source": []
  },
  {
   "cell_type": "code",
   "execution_count": null,
   "id": "5e2e17a6-0fce-43fd-86f3-587af1709535",
   "metadata": {},
   "outputs": [],
   "source": []
  }
 ],
 "metadata": {
  "kernelspec": {
   "display_name": "Python 3 (ipykernel)",
   "language": "python",
   "name": "python3"
  },
  "language_info": {
   "codemirror_mode": {
    "name": "ipython",
    "version": 3
   },
   "file_extension": ".py",
   "mimetype": "text/x-python",
   "name": "python",
   "nbconvert_exporter": "python",
   "pygments_lexer": "ipython3",
   "version": "3.12.4"
  }
 },
 "nbformat": 4,
 "nbformat_minor": 5
}
