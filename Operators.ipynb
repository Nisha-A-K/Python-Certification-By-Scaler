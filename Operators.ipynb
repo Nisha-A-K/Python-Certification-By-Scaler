{
 "cells": [
  {
   "cell_type": "code",
   "execution_count": 1,
   "id": "59b296ac-8110-46e2-b6e4-3a0cf984508d",
   "metadata": {},
   "outputs": [],
   "source": [
    "#string concatenation"
   ]
  },
  {
   "cell_type": "code",
   "execution_count": 5,
   "id": "e3ce7a9d-1732-461e-b9d6-958b05355269",
   "metadata": {},
   "outputs": [
    {
     "name": "stdout",
     "output_type": "stream",
     "text": [
      "NishaSachin\n"
     ]
    }
   ],
   "source": [
    "First = \"Nisha\"\n",
    "Last = \"Sachin\"\n",
    "print(First+Last)"
   ]
  },
  {
   "cell_type": "code",
   "execution_count": 7,
   "id": "a85622c5-e883-446e-9ba0-32099f1efe3c",
   "metadata": {},
   "outputs": [
    {
     "data": {
      "text/plain": [
       "'NishaNishaNisha'"
      ]
     },
     "execution_count": 7,
     "metadata": {},
     "output_type": "execute_result"
    }
   ],
   "source": [
    "First *3"
   ]
  },
  {
   "cell_type": "code",
   "execution_count": 9,
   "id": "6ee55815-bb98-4539-b910-4831ffe5d900",
   "metadata": {},
   "outputs": [
    {
     "name": "stdout",
     "output_type": "stream",
     "text": [
      "2\n"
     ]
    }
   ],
   "source": [
    "a = 5\n",
    "b = 3\n",
    "print(a%b)"
   ]
  },
  {
   "cell_type": "code",
   "execution_count": 11,
   "id": "8cb23597-4513-4c71-b947-cea0de441039",
   "metadata": {},
   "outputs": [],
   "source": [
    "# floor division  -//"
   ]
  },
  {
   "cell_type": "code",
   "execution_count": 13,
   "id": "3d297e69-974b-4bce-90ef-ef5347d01df1",
   "metadata": {},
   "outputs": [
    {
     "name": "stdout",
     "output_type": "stream",
     "text": [
      "5 3\n"
     ]
    }
   ],
   "source": [
    "print(a,b)"
   ]
  },
  {
   "cell_type": "code",
   "execution_count": 15,
   "id": "1e89f749-da7f-458a-83e7-e4eee8a76574",
   "metadata": {},
   "outputs": [
    {
     "name": "stdout",
     "output_type": "stream",
     "text": [
      "1\n"
     ]
    }
   ],
   "source": [
    "print(a//3)"
   ]
  },
  {
   "cell_type": "code",
   "execution_count": 19,
   "id": "2843474a-45c4-45fb-84f2-d42a5a612878",
   "metadata": {},
   "outputs": [],
   "source": [
    "# power - **"
   ]
  },
  {
   "cell_type": "code",
   "execution_count": 21,
   "id": "cf5b684d-7e90-4663-8808-4ec453ae17ca",
   "metadata": {},
   "outputs": [
    {
     "name": "stdout",
     "output_type": "stream",
     "text": [
      "5 3\n"
     ]
    }
   ],
   "source": [
    "print(a,b)"
   ]
  },
  {
   "cell_type": "code",
   "execution_count": 26,
   "id": "8aad1508-13e7-44bd-b1e7-bee46e23d98a",
   "metadata": {},
   "outputs": [
    {
     "data": {
      "text/plain": [
       "125"
      ]
     },
     "execution_count": 26,
     "metadata": {},
     "output_type": "execute_result"
    }
   ],
   "source": [
    "5 ** 3"
   ]
  },
  {
   "cell_type": "code",
   "execution_count": 28,
   "id": "83f4b65f-5243-43ec-a29c-9645dbb0039c",
   "metadata": {},
   "outputs": [
    {
     "data": {
      "text/plain": [
       "16"
      ]
     },
     "execution_count": 28,
     "metadata": {},
     "output_type": "execute_result"
    }
   ],
   "source": [
    "2 ** 4"
   ]
  },
  {
   "cell_type": "code",
   "execution_count": 30,
   "id": "4c55eb59-5709-4f9c-9782-449f5dad23e7",
   "metadata": {},
   "outputs": [
    {
     "name": "stdout",
     "output_type": "stream",
     "text": [
      "125\n"
     ]
    }
   ],
   "source": [
    "print (a ** b)"
   ]
  },
  {
   "cell_type": "code",
   "execution_count": 32,
   "id": "6c49f047-5128-4c6f-9410-3a1f7213db74",
   "metadata": {},
   "outputs": [],
   "source": [
    "# Assignment OPerator"
   ]
  },
  {
   "cell_type": "code",
   "execution_count": 36,
   "id": "cb0addba-bdf1-4546-811f-094d7c2cdabe",
   "metadata": {},
   "outputs": [
    {
     "name": "stdout",
     "output_type": "stream",
     "text": [
      "3\n"
     ]
    }
   ],
   "source": [
    "a = 3\n",
    "print (a)"
   ]
  },
  {
   "cell_type": "code",
   "execution_count": 40,
   "id": "3835570e-aaab-4172-a56b-5907ab5ea35e",
   "metadata": {},
   "outputs": [
    {
     "name": "stdout",
     "output_type": "stream",
     "text": [
      "11\n"
     ]
    }
   ],
   "source": [
    "a= a+3\n",
    "a = a+5\n",
    "print (a)"
   ]
  },
  {
   "cell_type": "code",
   "execution_count": 44,
   "id": "69a8f3e6-acbb-47c8-8a03-95cb42d1175a",
   "metadata": {},
   "outputs": [
    {
     "name": "stdout",
     "output_type": "stream",
     "text": [
      "19\n"
     ]
    }
   ],
   "source": [
    "# a = a+4\n",
    "a += 4\n",
    "print(a)"
   ]
  },
  {
   "cell_type": "code",
   "execution_count": 47,
   "id": "055ec9f7-1551-46d0-a8ed-ff409bbd33d1",
   "metadata": {},
   "outputs": [
    {
     "name": "stdout",
     "output_type": "stream",
     "text": [
      "17\n"
     ]
    }
   ],
   "source": [
    "a -= 2\n",
    "print(a)"
   ]
  },
  {
   "cell_type": "code",
   "execution_count": 49,
   "id": "4bac1d10-4c64-42ec-9b28-278aae3cea6f",
   "metadata": {},
   "outputs": [
    {
     "name": "stdout",
     "output_type": "stream",
     "text": [
      "34\n"
     ]
    }
   ],
   "source": [
    "a *=2\n",
    "print(a)"
   ]
  },
  {
   "cell_type": "code",
   "execution_count": 51,
   "id": "bc6f01f0-8353-4ad6-9889-67bb50b46092",
   "metadata": {},
   "outputs": [
    {
     "name": "stdout",
     "output_type": "stream",
     "text": [
      "17.0\n"
     ]
    }
   ],
   "source": [
    "a /=2\n",
    "print(a)"
   ]
  },
  {
   "cell_type": "code",
   "execution_count": null,
   "id": "42483b1f-d339-409a-a2e0-f89f2f48caf2",
   "metadata": {},
   "outputs": [],
   "source": []
  },
  {
   "cell_type": "code",
   "execution_count": 54,
   "id": "fc06eee6-bb49-4a70-ab76-ca1c3180bc4d",
   "metadata": {},
   "outputs": [],
   "source": [
    "# logical"
   ]
  },
  {
   "cell_type": "code",
   "execution_count": 56,
   "id": "064a8eab-8dfa-47b3-9ed8-43b9f310f54a",
   "metadata": {},
   "outputs": [
    {
     "data": {
      "text/plain": [
       "False"
      ]
     },
     "execution_count": 56,
     "metadata": {},
     "output_type": "execute_result"
    }
   ],
   "source": [
    "# and\n",
    "False and True"
   ]
  },
  {
   "cell_type": "code",
   "execution_count": 58,
   "id": "f11bc2e3-f08d-482a-b29e-f6d05ede5cab",
   "metadata": {},
   "outputs": [
    {
     "data": {
      "text/plain": [
       "True"
      ]
     },
     "execution_count": 58,
     "metadata": {},
     "output_type": "execute_result"
    }
   ],
   "source": [
    "True and True"
   ]
  },
  {
   "cell_type": "code",
   "execution_count": 60,
   "id": "d4baeba2-5814-42ba-b127-7613f518ab20",
   "metadata": {},
   "outputs": [
    {
     "ename": "SyntaxError",
     "evalue": "invalid syntax (1783009774.py, line 1)",
     "output_type": "error",
     "traceback": [
      "\u001b[1;36m  Cell \u001b[1;32mIn[60], line 1\u001b[1;36m\u001b[0m\n\u001b[1;33m    True And False\u001b[0m\n\u001b[1;37m         ^\u001b[0m\n\u001b[1;31mSyntaxError\u001b[0m\u001b[1;31m:\u001b[0m invalid syntax\n"
     ]
    }
   ],
   "source": [
    "True And False  # and shoulb be written in lower case"
   ]
  },
  {
   "cell_type": "code",
   "execution_count": 62,
   "id": "0215e37d-8252-4c2e-b4a1-becf0a549b2a",
   "metadata": {},
   "outputs": [
    {
     "data": {
      "text/plain": [
       "False"
      ]
     },
     "execution_count": 62,
     "metadata": {},
     "output_type": "execute_result"
    }
   ],
   "source": [
    "2>3 and 3<2"
   ]
  },
  {
   "cell_type": "code",
   "execution_count": 64,
   "id": "55b6eb5c-1043-4ac6-b7d2-d60bc15757d5",
   "metadata": {},
   "outputs": [
    {
     "data": {
      "text/plain": [
       "True"
      ]
     },
     "execution_count": 64,
     "metadata": {},
     "output_type": "execute_result"
    }
   ],
   "source": [
    "# or\n",
    "False or True"
   ]
  },
  {
   "cell_type": "code",
   "execution_count": 66,
   "id": "ab2eaaea-481b-4372-a703-8dc7b7569bf7",
   "metadata": {},
   "outputs": [
    {
     "data": {
      "text/plain": [
       "False"
      ]
     },
     "execution_count": 66,
     "metadata": {},
     "output_type": "execute_result"
    }
   ],
   "source": [
    "False or False"
   ]
  },
  {
   "cell_type": "code",
   "execution_count": 70,
   "id": "4aefb5fd-df31-488d-b661-45a7a956f971",
   "metadata": {},
   "outputs": [
    {
     "data": {
      "text/plain": [
       "True"
      ]
     },
     "execution_count": 70,
     "metadata": {},
     "output_type": "execute_result"
    }
   ],
   "source": [
    "2==7 or 5<8"
   ]
  },
  {
   "cell_type": "code",
   "execution_count": 74,
   "id": "9170cb0c-3ef5-48fb-8b80-e8320adee3e3",
   "metadata": {},
   "outputs": [
    {
     "data": {
      "text/plain": [
       "False"
      ]
     },
     "execution_count": 74,
     "metadata": {},
     "output_type": "execute_result"
    }
   ],
   "source": [
    "# not\n",
    "not True"
   ]
  },
  {
   "cell_type": "code",
   "execution_count": 76,
   "id": "c7e799a5-1da9-46e1-8b75-c49a9053cea6",
   "metadata": {},
   "outputs": [
    {
     "data": {
      "text/plain": [
       "True"
      ]
     },
     "execution_count": 76,
     "metadata": {},
     "output_type": "execute_result"
    }
   ],
   "source": [
    "not False"
   ]
  },
  {
   "cell_type": "code",
   "execution_count": 78,
   "id": "035382dd-eaa4-48bd-b245-61bb2fac0867",
   "metadata": {},
   "outputs": [
    {
     "data": {
      "text/plain": [
       "True"
      ]
     },
     "execution_count": 78,
     "metadata": {},
     "output_type": "execute_result"
    }
   ],
   "source": [
    "2<3"
   ]
  },
  {
   "cell_type": "code",
   "execution_count": 80,
   "id": "96aea19b-c4c5-4089-93eb-347fb5a61b13",
   "metadata": {},
   "outputs": [
    {
     "data": {
      "text/plain": [
       "False"
      ]
     },
     "execution_count": 80,
     "metadata": {},
     "output_type": "execute_result"
    }
   ],
   "source": [
    "not 2<3"
   ]
  },
  {
   "cell_type": "code",
   "execution_count": null,
   "id": "27fbc3e0-617e-4270-a645-e3d8dceb3b67",
   "metadata": {},
   "outputs": [],
   "source": []
  },
  {
   "cell_type": "code",
   "execution_count": 83,
   "id": "51916f5e-b6ba-44b1-b059-b48765112d01",
   "metadata": {},
   "outputs": [],
   "source": [
    "# Special Operators\n"
   ]
  },
  {
   "cell_type": "code",
   "execution_count": 85,
   "id": "fa27fdb2-cbaf-4eab-ae4b-12ab26504924",
   "metadata": {},
   "outputs": [],
   "source": [
    "# in operator tells if the object is part of another object\n",
    "\n",
    "name = \"Nisha Ravindran\"\n"
   ]
  },
  {
   "cell_type": "code",
   "execution_count": 87,
   "id": "41c1c7e4-deee-4a13-9b19-c46ceb5bf771",
   "metadata": {},
   "outputs": [
    {
     "data": {
      "text/plain": [
       "True"
      ]
     },
     "execution_count": 87,
     "metadata": {},
     "output_type": "execute_result"
    }
   ],
   "source": [
    "\"R\" in name"
   ]
  },
  {
   "cell_type": "code",
   "execution_count": 89,
   "id": "82257341-95cf-4b3c-b7c8-4142b26b9273",
   "metadata": {},
   "outputs": [
    {
     "data": {
      "text/plain": [
       "True"
      ]
     },
     "execution_count": 89,
     "metadata": {},
     "output_type": "execute_result"
    }
   ],
   "source": [
    "\"r\" in name"
   ]
  },
  {
   "cell_type": "code",
   "execution_count": 91,
   "id": "76ebb9bb-6d7e-4215-b7b7-9823629eb945",
   "metadata": {},
   "outputs": [
    {
     "data": {
      "text/plain": [
       "False"
      ]
     },
     "execution_count": 91,
     "metadata": {},
     "output_type": "execute_result"
    }
   ],
   "source": [
    "\"S\" in name"
   ]
  },
  {
   "cell_type": "code",
   "execution_count": 93,
   "id": "3c6e0858-2e9c-4cd7-b558-17a20aad048a",
   "metadata": {},
   "outputs": [
    {
     "data": {
      "text/plain": [
       "True"
      ]
     },
     "execution_count": 93,
     "metadata": {},
     "output_type": "execute_result"
    }
   ],
   "source": [
    "\"Nisha\" in name"
   ]
  },
  {
   "cell_type": "code",
   "execution_count": 95,
   "id": "ce61891d-f11a-467c-9dfd-02dd8c0044bf",
   "metadata": {},
   "outputs": [
    {
     "data": {
      "text/plain": [
       "True"
      ]
     },
     "execution_count": 95,
     "metadata": {},
     "output_type": "execute_result"
    }
   ],
   "source": [
    "\"sha\" in name"
   ]
  },
  {
   "cell_type": "code",
   "execution_count": null,
   "id": "1ade6619-5a76-4994-8d49-def71de01d96",
   "metadata": {},
   "outputs": [],
   "source": []
  },
  {
   "cell_type": "code",
   "execution_count": 98,
   "id": "d85d3eb4-81cb-4681-a316-e560fd69d2f1",
   "metadata": {},
   "outputs": [],
   "source": [
    "# is operator tells if the two objects are in same memory location"
   ]
  },
  {
   "cell_type": "code",
   "execution_count": 102,
   "id": "1c1b272b-b30e-4a94-b946-c3491aa9bbec",
   "metadata": {},
   "outputs": [],
   "source": [
    "d = 5\n",
    "e =5"
   ]
  },
  {
   "cell_type": "code",
   "execution_count": 104,
   "id": "8c09afa4-c1da-4af4-8f3b-1e151e20ecc8",
   "metadata": {},
   "outputs": [
    {
     "name": "stdout",
     "output_type": "stream",
     "text": [
      "140703203080760 140703203080760\n"
     ]
    }
   ],
   "source": [
    "print (id(d),id(e))"
   ]
  },
  {
   "cell_type": "code",
   "execution_count": 108,
   "id": "24f3645d-9956-4fb0-82bc-7f949aa7243d",
   "metadata": {},
   "outputs": [
    {
     "data": {
      "text/plain": [
       "True"
      ]
     },
     "execution_count": 108,
     "metadata": {},
     "output_type": "execute_result"
    }
   ],
   "source": [
    "d is e"
   ]
  },
  {
   "cell_type": "code",
   "execution_count": null,
   "id": "25aafdbe-0c2a-4afd-b8b2-22020b821846",
   "metadata": {},
   "outputs": [],
   "source": []
  }
 ],
 "metadata": {
  "kernelspec": {
   "display_name": "Python 3 (ipykernel)",
   "language": "python",
   "name": "python3"
  },
  "language_info": {
   "codemirror_mode": {
    "name": "ipython",
    "version": 3
   },
   "file_extension": ".py",
   "mimetype": "text/x-python",
   "name": "python",
   "nbconvert_exporter": "python",
   "pygments_lexer": "ipython3",
   "version": "3.12.4"
  }
 },
 "nbformat": 4,
 "nbformat_minor": 5
}
