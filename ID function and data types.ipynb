{
 "cells": [
  {
   "cell_type": "code",
   "execution_count": 1,
   "id": "f7dae581-aa8f-4c4f-874d-8fabb39a4313",
   "metadata": {},
   "outputs": [
    {
     "data": {
      "text/plain": [
       "140703250594360"
      ]
     },
     "execution_count": 1,
     "metadata": {},
     "output_type": "execute_result"
    }
   ],
   "source": [
    "x=5\n",
    "id(x)"
   ]
  },
  {
   "cell_type": "code",
   "execution_count": 3,
   "id": "0d7681f6-5d9a-4a91-ac0a-4ad346e0d8f0",
   "metadata": {},
   "outputs": [
    {
     "name": "stdout",
     "output_type": "stream",
     "text": [
      "140703250595640\n"
     ]
    }
   ],
   "source": [
    "x=45\n",
    "print(id(x))"
   ]
  },
  {
   "cell_type": "code",
   "execution_count": 5,
   "id": "ee82a77c-b996-44e0-9a17-c1bcb205346f",
   "metadata": {},
   "outputs": [
    {
     "name": "stdout",
     "output_type": "stream",
     "text": [
      "45\n"
     ]
    }
   ],
   "source": [
    "print(x)"
   ]
  },
  {
   "cell_type": "code",
   "execution_count": 7,
   "id": "1fb922bc-4df6-45b9-af4e-41f67d0f0818",
   "metadata": {},
   "outputs": [
    {
     "name": "stdout",
     "output_type": "stream",
     "text": [
      "1603677802624\n"
     ]
    }
   ],
   "source": [
    "name = 'Rahul'\n",
    "print(id(name))"
   ]
  },
  {
   "cell_type": "code",
   "execution_count": 9,
   "id": "d3d89cd2-e6fe-4842-bb31-dd310edf4706",
   "metadata": {},
   "outputs": [],
   "source": [
    "# Data types"
   ]
  },
  {
   "cell_type": "code",
   "execution_count": 15,
   "id": "e4a754b6-5500-4f39-8fb7-83206a8f3643",
   "metadata": {},
   "outputs": [
    {
     "name": "stdout",
     "output_type": "stream",
     "text": [
      "<class 'int'>\n",
      "24\n"
     ]
    }
   ],
   "source": [
    "number = 24\n",
    "print(type(number))\n",
    "print(number)"
   ]
  },
  {
   "cell_type": "code",
   "execution_count": 17,
   "id": "d8025419-9c2d-4a64-91b5-a1f6dd0a2aa5",
   "metadata": {},
   "outputs": [
    {
     "name": "stdout",
     "output_type": "stream",
     "text": [
      "number\n"
     ]
    }
   ],
   "source": [
    "print(\"number\")"
   ]
  },
  {
   "cell_type": "code",
   "execution_count": 19,
   "id": "4508f594-d5ab-466b-a712-1f991b6d11e7",
   "metadata": {},
   "outputs": [],
   "source": [
    "# float"
   ]
  },
  {
   "cell_type": "code",
   "execution_count": 21,
   "id": "387e6ec7-5c13-45b9-ae7a-a25b76420dfa",
   "metadata": {},
   "outputs": [
    {
     "name": "stdout",
     "output_type": "stream",
     "text": [
      "1.05\n",
      "<class 'float'>\n"
     ]
    }
   ],
   "source": [
    "f = 1.05\n",
    "print(f)\n",
    "print(type(f))"
   ]
  },
  {
   "cell_type": "code",
   "execution_count": 23,
   "id": "384b8f11-97a9-431b-a558-210f763cbcd3",
   "metadata": {},
   "outputs": [],
   "source": [
    "# Booleans"
   ]
  },
  {
   "cell_type": "code",
   "execution_count": 27,
   "id": "02f3a3ea-1a19-4b59-a500-7147d49ad954",
   "metadata": {},
   "outputs": [
    {
     "name": "stdout",
     "output_type": "stream",
     "text": [
      "<class 'bool'>\n",
      "True\n"
     ]
    }
   ],
   "source": [
    "b = True\n",
    "print(type(b))\n",
    "print(b)"
   ]
  },
  {
   "cell_type": "code",
   "execution_count": 29,
   "id": "99b3aaa5-5502-4d25-9782-8627ba2c05b5",
   "metadata": {},
   "outputs": [
    {
     "ename": "NameError",
     "evalue": "name 'true' is not defined",
     "output_type": "error",
     "traceback": [
      "\u001b[1;31m---------------------------------------------------------------------------\u001b[0m",
      "\u001b[1;31mNameError\u001b[0m                                 Traceback (most recent call last)",
      "Cell \u001b[1;32mIn[29], line 1\u001b[0m\n\u001b[1;32m----> 1\u001b[0m c \u001b[38;5;241m=\u001b[39m true\n\u001b[0;32m      2\u001b[0m \u001b[38;5;28mprint\u001b[39m(\u001b[38;5;28mtype\u001b[39m(c))\n",
      "\u001b[1;31mNameError\u001b[0m: name 'true' is not defined"
     ]
    }
   ],
   "source": [
    "c = true\n",
    "print(type(c))"
   ]
  },
  {
   "cell_type": "code",
   "execution_count": 31,
   "id": "712b3194-ac7c-4e40-8e0f-3c629dd4fe72",
   "metadata": {},
   "outputs": [],
   "source": [
    "# strings"
   ]
  },
  {
   "cell_type": "code",
   "execution_count": 35,
   "id": "44d3e72e-a88c-4115-9b73-cb6acfcd29f3",
   "metadata": {},
   "outputs": [
    {
     "name": "stdout",
     "output_type": "stream",
     "text": [
      "<class 'str'>\n",
      "Rahul 123 @ xyz\n"
     ]
    }
   ],
   "source": [
    "s = \"Rahul 123 @ xyz\"\n",
    "print(type(s))\n",
    "print(s)"
   ]
  },
  {
   "cell_type": "code",
   "execution_count": 37,
   "id": "986310bd-cdce-483c-bba4-edd1f188d3dd",
   "metadata": {},
   "outputs": [
    {
     "name": "stdout",
     "output_type": "stream",
     "text": [
      "<class 'str'>\n",
      " hai\n",
      "good morning\n",
      "how are you\n"
     ]
    }
   ],
   "source": [
    "m= \"\"\" hai\n",
    "good morning\n",
    "how are you\"\"\"\n",
    "print(type(m))\n",
    "print(m)"
   ]
  },
  {
   "cell_type": "code",
   "execution_count": 41,
   "id": "d831970d-0a5f-4d76-bec4-eff81b847e8f",
   "metadata": {},
   "outputs": [],
   "source": [
    "# None or null"
   ]
  },
  {
   "cell_type": "code",
   "execution_count": 43,
   "id": "ec1dc30f-bdf4-48ed-b50e-f4c17f607f23",
   "metadata": {},
   "outputs": [
    {
     "name": "stdout",
     "output_type": "stream",
     "text": [
      "<class 'NoneType'>\n",
      "None\n"
     ]
    }
   ],
   "source": [
    "n = None\n",
    "print(type(n))\n",
    "print(n)"
   ]
  },
  {
   "cell_type": "code",
   "execution_count": 3,
   "id": "8e475c7f-69dc-4079-8255-7c6f54edc80e",
   "metadata": {},
   "outputs": [],
   "source": [
    "c=float(\"1.5\")"
   ]
  },
  {
   "cell_type": "code",
   "execution_count": 5,
   "id": "711ed983-d4b7-4678-8082-9d7628f86a06",
   "metadata": {},
   "outputs": [
    {
     "name": "stdin",
     "output_type": "stream",
     "text": [
      " 1.25\n"
     ]
    }
   ],
   "source": [
    "e = input()"
   ]
  },
  {
   "cell_type": "code",
   "execution_count": 7,
   "id": "0405db6b-9102-42bd-858f-fd1a71d0b6b2",
   "metadata": {},
   "outputs": [
    {
     "name": "stdout",
     "output_type": "stream",
     "text": [
      "<class 'str'>\n"
     ]
    }
   ],
   "source": [
    "print(type(e))"
   ]
  },
  {
   "cell_type": "code",
   "execution_count": 9,
   "id": "7cc242b5-68a9-4a97-839d-58fd954dd52b",
   "metadata": {},
   "outputs": [],
   "source": [
    "b = float(\"1.25\")"
   ]
  },
  {
   "cell_type": "code",
   "execution_count": 11,
   "id": "41c0e898-e9dd-433f-903f-d9ff8f5585f7",
   "metadata": {},
   "outputs": [
    {
     "name": "stdout",
     "output_type": "stream",
     "text": [
      "<class 'float'>\n"
     ]
    }
   ],
   "source": [
    "print(type(b))"
   ]
  },
  {
   "cell_type": "code",
   "execution_count": 13,
   "id": "b589de81-d010-4f72-b132-25597eb34191",
   "metadata": {},
   "outputs": [
    {
     "data": {
      "text/plain": [
       "1"
      ]
     },
     "execution_count": 13,
     "metadata": {},
     "output_type": "execute_result"
    }
   ],
   "source": [
    "int(b)"
   ]
  },
  {
   "cell_type": "code",
   "execution_count": null,
   "id": "4c848857-13d7-4254-b7bb-f4233b7f0cd6",
   "metadata": {},
   "outputs": [],
   "source": []
  }
 ],
 "metadata": {
  "kernelspec": {
   "display_name": "Python 3 (ipykernel)",
   "language": "python",
   "name": "python3"
  },
  "language_info": {
   "codemirror_mode": {
    "name": "ipython",
    "version": 3
   },
   "file_extension": ".py",
   "mimetype": "text/x-python",
   "name": "python",
   "nbconvert_exporter": "python",
   "pygments_lexer": "ipython3",
   "version": "3.12.4"
  }
 },
 "nbformat": 4,
 "nbformat_minor": 5
}
