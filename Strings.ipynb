{
 "cells": [
  {
   "cell_type": "code",
   "execution_count": 1,
   "id": "91f5816d-d39b-4aa2-8bfe-7e7710767a4f",
   "metadata": {},
   "outputs": [
    {
     "data": {
      "text/plain": [
       "False"
      ]
     },
     "execution_count": 1,
     "metadata": {},
     "output_type": "execute_result"
    }
   ],
   "source": [
    "\"Nisha\" == \"Sachin\""
   ]
  },
  {
   "cell_type": "code",
   "execution_count": 3,
   "id": "a46dae43-f3c7-4ef4-ba48-0a7197417097",
   "metadata": {},
   "outputs": [
    {
     "data": {
      "text/plain": [
       "str"
      ]
     },
     "execution_count": 3,
     "metadata": {},
     "output_type": "execute_result"
    }
   ],
   "source": [
    "s = \"Nisha\"\n",
    "type(s)"
   ]
  },
  {
   "cell_type": "code",
   "execution_count": 5,
   "id": "55c774bf-c2c0-4ee8-8d76-835797255098",
   "metadata": {},
   "outputs": [
    {
     "data": {
      "text/plain": [
       "str"
      ]
     },
     "execution_count": 5,
     "metadata": {},
     "output_type": "execute_result"
    }
   ],
   "source": [
    "s2 = \"\"\" Multi\n",
    "Line\"\"\"\n",
    "type(s2)"
   ]
  },
  {
   "cell_type": "code",
   "execution_count": 7,
   "id": "9820759b-6340-4bee-a11c-193b7eb4a887",
   "metadata": {},
   "outputs": [],
   "source": [
    "# ord and chr"
   ]
  },
  {
   "cell_type": "code",
   "execution_count": 9,
   "id": "e91e67ba-ff5b-4b62-a005-e8699b8f2934",
   "metadata": {},
   "outputs": [
    {
     "data": {
      "text/plain": [
       "97"
      ]
     },
     "execution_count": 9,
     "metadata": {},
     "output_type": "execute_result"
    }
   ],
   "source": [
    "ord(\"a\")"
   ]
  },
  {
   "cell_type": "code",
   "execution_count": 11,
   "id": "01b8bcc8-9925-4ccb-85de-56e9b2c0037d",
   "metadata": {},
   "outputs": [
    {
     "data": {
      "text/plain": [
       "90"
      ]
     },
     "execution_count": 11,
     "metadata": {},
     "output_type": "execute_result"
    }
   ],
   "source": [
    "ord(\"Z\")"
   ]
  },
  {
   "cell_type": "code",
   "execution_count": 15,
   "id": "b0d86d76-a3a1-4072-8503-e8d5cba18432",
   "metadata": {},
   "outputs": [
    {
     "data": {
      "text/plain": [
       "117"
      ]
     },
     "execution_count": 15,
     "metadata": {},
     "output_type": "execute_result"
    }
   ],
   "source": [
    "ord(\"u\")"
   ]
  },
  {
   "cell_type": "code",
   "execution_count": 17,
   "id": "bc3883a4-6ab7-4838-a603-f8d624dd5cf0",
   "metadata": {},
   "outputs": [
    {
     "data": {
      "text/plain": [
       "'\\x01'"
      ]
     },
     "execution_count": 17,
     "metadata": {},
     "output_type": "execute_result"
    }
   ],
   "source": [
    "# use chr for characher value of integer \n",
    "chr(1)"
   ]
  },
  {
   "cell_type": "code",
   "execution_count": 19,
   "id": "21dff6d4-f6df-4945-af52-7a6443e56224",
   "metadata": {},
   "outputs": [
    {
     "data": {
      "text/plain": [
       "'a'"
      ]
     },
     "execution_count": 19,
     "metadata": {},
     "output_type": "execute_result"
    }
   ],
   "source": [
    "chr(97)"
   ]
  },
  {
   "cell_type": "code",
   "execution_count": null,
   "id": "75a14051-393a-4f5c-8613-4d8f087040d3",
   "metadata": {},
   "outputs": [],
   "source": []
  },
  {
   "cell_type": "code",
   "execution_count": 22,
   "id": "a3199692-5aab-4356-9fe1-de635fff872b",
   "metadata": {},
   "outputs": [],
   "source": [
    "# slicing and indexning string"
   ]
  },
  {
   "cell_type": "code",
   "execution_count": 24,
   "id": "ba99b6f2-1b6f-4594-bfaa-14ee87f8515e",
   "metadata": {},
   "outputs": [],
   "source": [
    "name = \"Nisha Ravindran\""
   ]
  },
  {
   "cell_type": "code",
   "execution_count": 26,
   "id": "ca6a980f-01f4-445a-a48c-590cb460ea05",
   "metadata": {},
   "outputs": [
    {
     "data": {
      "text/plain": [
       "'Nisha Ravindran'"
      ]
     },
     "execution_count": 26,
     "metadata": {},
     "output_type": "execute_result"
    }
   ],
   "source": [
    "name"
   ]
  },
  {
   "cell_type": "code",
   "execution_count": 28,
   "id": "35e0d67f-ebee-4210-b494-7402a554c404",
   "metadata": {},
   "outputs": [
    {
     "data": {
      "text/plain": [
       "'N'"
      ]
     },
     "execution_count": 28,
     "metadata": {},
     "output_type": "execute_result"
    }
   ],
   "source": [
    "name[0]"
   ]
  },
  {
   "cell_type": "code",
   "execution_count": 30,
   "id": "d5289fae-cb90-49e3-968a-8c5a40b8ab98",
   "metadata": {},
   "outputs": [
    {
     "data": {
      "text/plain": [
       "' '"
      ]
     },
     "execution_count": 30,
     "metadata": {},
     "output_type": "execute_result"
    }
   ],
   "source": [
    "name[5]"
   ]
  },
  {
   "cell_type": "code",
   "execution_count": 32,
   "id": "7c464b98-125b-41a4-a227-151dcd82234a",
   "metadata": {},
   "outputs": [
    {
     "data": {
      "text/plain": [
       "'v'"
      ]
     },
     "execution_count": 32,
     "metadata": {},
     "output_type": "execute_result"
    }
   ],
   "source": [
    "name[8]"
   ]
  },
  {
   "cell_type": "code",
   "execution_count": 34,
   "id": "da05baab-9092-49c9-8f2f-c35b4f2226fb",
   "metadata": {},
   "outputs": [
    {
     "data": {
      "text/plain": [
       "'n'"
      ]
     },
     "execution_count": 34,
     "metadata": {},
     "output_type": "execute_result"
    }
   ],
   "source": [
    "# last character\n",
    "name[-1]  "
   ]
  },
  {
   "cell_type": "code",
   "execution_count": 36,
   "id": "ddfa5d83-e8d5-4f9b-b98d-1af89d1ad08f",
   "metadata": {},
   "outputs": [
    {
     "data": {
      "text/plain": [
       "15"
      ]
     },
     "execution_count": 36,
     "metadata": {},
     "output_type": "execute_result"
    }
   ],
   "source": [
    "len(name)"
   ]
  },
  {
   "cell_type": "code",
   "execution_count": 40,
   "id": "fcc8981b-7f9b-4b5a-8d09-e5b158db0897",
   "metadata": {},
   "outputs": [
    {
     "name": "stdout",
     "output_type": "stream",
     "text": [
      "N\n",
      "15\n"
     ]
    }
   ],
   "source": [
    "size = len(name)\n",
    "print(name[-size])  # first chara\n",
    "print(size)"
   ]
  },
  {
   "cell_type": "code",
   "execution_count": 42,
   "id": "075da4a3-4639-4cf7-8343-2e86108b9159",
   "metadata": {},
   "outputs": [],
   "source": [
    "# slicing"
   ]
  },
  {
   "cell_type": "code",
   "execution_count": 44,
   "id": "c745b29a-3cd9-4e56-a6ff-bec8d6d0b49b",
   "metadata": {},
   "outputs": [
    {
     "data": {
      "text/plain": [
       "'Nisha Ravindran'"
      ]
     },
     "execution_count": 44,
     "metadata": {},
     "output_type": "execute_result"
    }
   ],
   "source": [
    "name "
   ]
  },
  {
   "cell_type": "code",
   "execution_count": 46,
   "id": "d2733520-e84c-43bb-adf7-7a1c993c9ff7",
   "metadata": {},
   "outputs": [
    {
     "data": {
      "text/plain": [
       "'N'"
      ]
     },
     "execution_count": 46,
     "metadata": {},
     "output_type": "execute_result"
    }
   ],
   "source": [
    "name[0]"
   ]
  },
  {
   "cell_type": "code",
   "execution_count": 48,
   "id": "e4b40d37-1d6a-4cdc-a813-391100c00549",
   "metadata": {},
   "outputs": [
    {
     "data": {
      "text/plain": [
       "'Ni'"
      ]
     },
     "execution_count": 48,
     "metadata": {},
     "output_type": "execute_result"
    }
   ],
   "source": [
    "name[0:2]"
   ]
  },
  {
   "cell_type": "code",
   "execution_count": 50,
   "id": "17284351-0ae1-40c9-9495-83a1fffad6b2",
   "metadata": {},
   "outputs": [
    {
     "data": {
      "text/plain": [
       "'Nisha Ravindran'"
      ]
     },
     "execution_count": 50,
     "metadata": {},
     "output_type": "execute_result"
    }
   ],
   "source": [
    "name[0:size]"
   ]
  },
  {
   "cell_type": "code",
   "execution_count": 52,
   "id": "2761c85e-80ea-4367-8a6c-82935a0714ca",
   "metadata": {},
   "outputs": [
    {
     "data": {
      "text/plain": [
       "'isha Ravindran'"
      ]
     },
     "execution_count": 52,
     "metadata": {},
     "output_type": "execute_result"
    }
   ],
   "source": [
    "name[1:size]"
   ]
  },
  {
   "cell_type": "code",
   "execution_count": 54,
   "id": "810af047-f2ca-4d5f-957d-9a6551142b8f",
   "metadata": {},
   "outputs": [
    {
     "data": {
      "text/plain": [
       "'Nisha Ravindran'"
      ]
     },
     "execution_count": 54,
     "metadata": {},
     "output_type": "execute_result"
    }
   ],
   "source": [
    "name[:]"
   ]
  },
  {
   "cell_type": "code",
   "execution_count": 56,
   "id": "ef3d808c-b431-479f-bc97-f2a49a2cce6a",
   "metadata": {},
   "outputs": [
    {
     "data": {
      "text/plain": [
       "'Nisha Ravindra'"
      ]
     },
     "execution_count": 56,
     "metadata": {},
     "output_type": "execute_result"
    }
   ],
   "source": [
    "name[0:-1]"
   ]
  },
  {
   "cell_type": "code",
   "execution_count": 60,
   "id": "47f2486f-2fda-4876-9209-852f82cff709",
   "metadata": {},
   "outputs": [
    {
     "data": {
      "text/plain": [
       "'NsaRvnrn'"
      ]
     },
     "execution_count": 60,
     "metadata": {},
     "output_type": "execute_result"
    }
   ],
   "source": [
    "name[::2] #start:end:jump"
   ]
  },
  {
   "cell_type": "code",
   "execution_count": 62,
   "id": "5da04f51-05c8-417b-ad7f-4041ac50b3df",
   "metadata": {},
   "outputs": [
    {
     "data": {
      "text/plain": [
       "'Nisha Ravindra'"
      ]
     },
     "execution_count": 62,
     "metadata": {},
     "output_type": "execute_result"
    }
   ],
   "source": [
    "name[:-1]"
   ]
  },
  {
   "cell_type": "code",
   "execution_count": 64,
   "id": "394c2c89-159c-4c97-9200-3047918e14dc",
   "metadata": {},
   "outputs": [
    {
     "data": {
      "text/plain": [
       "'a'"
      ]
     },
     "execution_count": 64,
     "metadata": {},
     "output_type": "execute_result"
    }
   ],
   "source": [
    "name[-2]"
   ]
  },
  {
   "cell_type": "code",
   "execution_count": 66,
   "id": "905065cd-a875-45b4-9c07-c2fca941cb39",
   "metadata": {},
   "outputs": [
    {
     "data": {
      "text/plain": [
       "'nardnivaR ahsiN'"
      ]
     },
     "execution_count": 66,
     "metadata": {},
     "output_type": "execute_result"
    }
   ],
   "source": [
    "name[::-1]"
   ]
  },
  {
   "cell_type": "code",
   "execution_count": 70,
   "id": "8d14a00c-f5db-4b4a-afb4-0c5628346395",
   "metadata": {},
   "outputs": [
    {
     "data": {
      "text/plain": [
       "'nardnivaR ahsi'"
      ]
     },
     "execution_count": 70,
     "metadata": {},
     "output_type": "execute_result"
    }
   ],
   "source": [
    "name[-1:0:-1]"
   ]
  },
  {
   "cell_type": "code",
   "execution_count": 87,
   "id": "1bc40ac2-9ebf-4bf0-bdb5-0801766961da",
   "metadata": {},
   "outputs": [
    {
     "data": {
      "text/plain": [
       "'nardnivaR ahsiN'"
      ]
     },
     "execution_count": 87,
     "metadata": {},
     "output_type": "execute_result"
    }
   ],
   "source": [
    "name[-1:-(len(name)+1):-1]"
   ]
  },
  {
   "cell_type": "code",
   "execution_count": null,
   "id": "198629d4-0684-454b-9f70-5edc42d44dbb",
   "metadata": {},
   "outputs": [],
   "source": [
    "# string methods"
   ]
  },
  {
   "cell_type": "code",
   "execution_count": 90,
   "id": "c0e18301-7dbe-44fc-9570-2005e64a98ce",
   "metadata": {},
   "outputs": [
    {
     "data": {
      "text/plain": [
       "'Nisha Ravindran'"
      ]
     },
     "execution_count": 90,
     "metadata": {},
     "output_type": "execute_result"
    }
   ],
   "source": [
    "name"
   ]
  },
  {
   "cell_type": "code",
   "execution_count": 94,
   "id": "19e4a14a-fd7d-426a-8963-6ec58f6753aa",
   "metadata": {},
   "outputs": [
    {
     "data": {
      "text/plain": [
       "'Nisha ravindran'"
      ]
     },
     "execution_count": 94,
     "metadata": {},
     "output_type": "execute_result"
    }
   ],
   "source": [
    "name.capitalize()"
   ]
  },
  {
   "cell_type": "code",
   "execution_count": 96,
   "id": "c15cdf50-d7de-4d92-be15-48365adaf0f0",
   "metadata": {},
   "outputs": [
    {
     "data": {
      "text/plain": [
       "'Nisha Ravindran'"
      ]
     },
     "execution_count": 96,
     "metadata": {},
     "output_type": "execute_result"
    }
   ],
   "source": [
    "name.title()"
   ]
  },
  {
   "cell_type": "code",
   "execution_count": 98,
   "id": "9964c2ed-7ab6-40fc-8f09-ad5c7b040483",
   "metadata": {},
   "outputs": [
    {
     "data": {
      "text/plain": [
       "'NISHA RAVINDRAN'"
      ]
     },
     "execution_count": 98,
     "metadata": {},
     "output_type": "execute_result"
    }
   ],
   "source": [
    "name.upper()"
   ]
  },
  {
   "cell_type": "code",
   "execution_count": 100,
   "id": "37ed3a45-ced2-4797-a405-b163385f66bf",
   "metadata": {},
   "outputs": [
    {
     "data": {
      "text/plain": [
       "'nisha ravindran'"
      ]
     },
     "execution_count": 100,
     "metadata": {},
     "output_type": "execute_result"
    }
   ],
   "source": [
    "name.lower()"
   ]
  },
  {
   "cell_type": "code",
   "execution_count": 106,
   "id": "7ccebfba-bc4f-49e2-b068-ea02009ecbc4",
   "metadata": {},
   "outputs": [
    {
     "data": {
      "text/plain": [
       "False"
      ]
     },
     "execution_count": 106,
     "metadata": {},
     "output_type": "execute_result"
    }
   ],
   "source": [
    "name.islower()"
   ]
  },
  {
   "cell_type": "code",
   "execution_count": 110,
   "id": "d7fa09c0-16f3-41c2-94ed-d234c0e1540d",
   "metadata": {},
   "outputs": [
    {
     "data": {
      "text/plain": [
       "4"
      ]
     },
     "execution_count": 110,
     "metadata": {},
     "output_type": "execute_result"
    }
   ],
   "source": [
    "name.find(\"a\")"
   ]
  },
  {
   "cell_type": "code",
   "execution_count": 112,
   "id": "6f0793c5-9af5-4e0f-a9ec-83d4827a1069",
   "metadata": {},
   "outputs": [
    {
     "data": {
      "text/plain": [
       "12"
      ]
     },
     "execution_count": 112,
     "metadata": {},
     "output_type": "execute_result"
    }
   ],
   "source": [
    "name.index(\"r\")"
   ]
  },
  {
   "cell_type": "code",
   "execution_count": 114,
   "id": "7fa43a7d-e52c-4271-aa2d-1a3c4d85b5ea",
   "metadata": {},
   "outputs": [
    {
     "data": {
      "text/plain": [
       "False"
      ]
     },
     "execution_count": 114,
     "metadata": {},
     "output_type": "execute_result"
    }
   ],
   "source": [
    "name.isalpha()"
   ]
  },
  {
   "cell_type": "code",
   "execution_count": 120,
   "id": "c0a673e6-c914-4835-b66a-0d43de43fe71",
   "metadata": {},
   "outputs": [
    {
     "data": {
      "text/plain": [
       "3"
      ]
     },
     "execution_count": 120,
     "metadata": {},
     "output_type": "execute_result"
    }
   ],
   "source": [
    "name.count(\"a\")"
   ]
  },
  {
   "cell_type": "code",
   "execution_count": 122,
   "id": "e70145c6-d201-4b27-9fd6-6eaf09e6c9a6",
   "metadata": {},
   "outputs": [
    {
     "data": {
      "text/plain": [
       "0"
      ]
     },
     "execution_count": 122,
     "metadata": {},
     "output_type": "execute_result"
    }
   ],
   "source": [
    "name.count(\"sa\")"
   ]
  },
  {
   "cell_type": "code",
   "execution_count": 124,
   "id": "2a74cbdb-c226-4776-8e19-235b9add2c45",
   "metadata": {},
   "outputs": [
    {
     "data": {
      "text/plain": [
       "'Nisha RavindRan'"
      ]
     },
     "execution_count": 124,
     "metadata": {},
     "output_type": "execute_result"
    }
   ],
   "source": [
    "name.replace(\"r\",\"R\")"
   ]
  },
  {
   "cell_type": "code",
   "execution_count": 126,
   "id": "4fb26aa6-a13e-4d3f-bee7-ff7e4ef8f5bd",
   "metadata": {},
   "outputs": [
    {
     "data": {
      "text/plain": [
       "['Nisha', 'Ravindran']"
      ]
     },
     "execution_count": 126,
     "metadata": {},
     "output_type": "execute_result"
    }
   ],
   "source": [
    "name.split()"
   ]
  },
  {
   "cell_type": "code",
   "execution_count": 128,
   "id": "fab722b3-cfc6-4b4c-894e-e5ff1d782d8d",
   "metadata": {},
   "outputs": [
    {
     "data": {
      "text/plain": [
       "['Nish', ' R', 'vindr', 'n']"
      ]
     },
     "execution_count": 128,
     "metadata": {},
     "output_type": "execute_result"
    }
   ],
   "source": [
    "name.split(\"a\")"
   ]
  },
  {
   "cell_type": "code",
   "execution_count": null,
   "id": "cf7190aa-0f89-4bcd-852e-1c4997ec9042",
   "metadata": {},
   "outputs": [],
   "source": []
  },
  {
   "cell_type": "code",
   "execution_count": 131,
   "id": "fd54af79-18ee-4582-b254-037a19b23607",
   "metadata": {},
   "outputs": [],
   "source": [
    "# string formatting"
   ]
  },
  {
   "cell_type": "code",
   "execution_count": 133,
   "id": "27b0c39b-8282-4645-9519-bd6f140afeee",
   "metadata": {},
   "outputs": [
    {
     "name": "stdin",
     "output_type": "stream",
     "text": [
      " Nisha\n",
      " 31\n"
     ]
    },
    {
     "name": "stdout",
     "output_type": "stream",
     "text": [
      "hai my name is Nisha .and my age is 31\n"
     ]
    }
   ],
   "source": [
    "name =input()\n",
    "age = input()\n",
    "print(\"hai my name is\",name,\".and my age is\",age)"
   ]
  },
  {
   "cell_type": "code",
   "execution_count": 139,
   "id": "f2555582-febc-4bec-9094-c62c7c3af2bc",
   "metadata": {},
   "outputs": [
    {
     "name": "stdout",
     "output_type": "stream",
     "text": [
      "Hai, my name is Nisha.My age is 31\n"
     ]
    }
   ],
   "source": [
    "print(\"Hai, my name is {}.My age is {}\".format(name,age))"
   ]
  },
  {
   "cell_type": "code",
   "execution_count": null,
   "id": "9ffc8097-7bf3-4dc1-a085-7135aab5b0d2",
   "metadata": {},
   "outputs": [],
   "source": []
  },
  {
   "cell_type": "code",
   "execution_count": 142,
   "id": "d79a4cda-11ef-4b09-bb86-2f87f0c18b62",
   "metadata": {},
   "outputs": [
    {
     "ename": "SyntaxError",
     "evalue": "invalid syntax (2243147519.py, line 2)",
     "output_type": "error",
     "traceback": [
      "\u001b[1;36m  Cell \u001b[1;32mIn[142], line 2\u001b[1;36m\u001b[0m\n\u001b[1;33m    (\"Hai, my name is {name}.My age is {age}\".)\u001b[0m\n\u001b[1;37m                                              ^\u001b[0m\n\u001b[1;31mSyntaxError\u001b[0m\u001b[1;31m:\u001b[0m invalid syntax\n"
     ]
    }
   ],
   "source": [
    "# more advanced - available in upper versions\n",
    "(\"Hai, my name is {name}.My age is {age}\".)\n"
   ]
  },
  {
   "cell_type": "code",
   "execution_count": 146,
   "id": "251c1ea7-bb1d-4d73-ae49-1ec4281a8e15",
   "metadata": {},
   "outputs": [
    {
     "name": "stdin",
     "output_type": "stream",
     "text": [
      " Nisha\n",
      " Sachin\n"
     ]
    },
    {
     "name": "stdout",
     "output_type": "stream",
     "text": [
      "NishaSachin\n"
     ]
    }
   ],
   "source": [
    "first = input()\n",
    "second = input()\n",
    "print(first+second)"
   ]
  },
  {
   "cell_type": "code",
   "execution_count": 148,
   "id": "ef3d092a-3d4f-417b-b3e1-8b3386404df3",
   "metadata": {},
   "outputs": [
    {
     "data": {
      "text/plain": [
       "'2a'"
      ]
     },
     "execution_count": 148,
     "metadata": {},
     "output_type": "execute_result"
    }
   ],
   "source": [
    "\"2\"+\"a\""
   ]
  },
  {
   "cell_type": "code",
   "execution_count": 150,
   "id": "ea2a144a-f2a7-419b-a0e0-0a8c717b4b37",
   "metadata": {},
   "outputs": [
    {
     "data": {
      "text/plain": [
       "'aaa'"
      ]
     },
     "execution_count": 150,
     "metadata": {},
     "output_type": "execute_result"
    }
   ],
   "source": [
    "\"a\"+\"a\"+\"a\""
   ]
  },
  {
   "cell_type": "code",
   "execution_count": 152,
   "id": "da077750-6456-4347-bcf5-568cef2c780d",
   "metadata": {},
   "outputs": [
    {
     "data": {
      "text/plain": [
       "'aaa'"
      ]
     },
     "execution_count": 152,
     "metadata": {},
     "output_type": "execute_result"
    }
   ],
   "source": [
    "\"a\"*3"
   ]
  },
  {
   "cell_type": "code",
   "execution_count": 154,
   "id": "f4a2de30-8ac0-42c7-a0d4-213bf96f2135",
   "metadata": {},
   "outputs": [],
   "source": []
  },
  {
   "cell_type": "code",
   "execution_count": 156,
   "id": "35e871a7-a7f7-435f-97a9-e330c6e32336",
   "metadata": {},
   "outputs": [],
   "source": [
    "# print vowels"
   ]
  },
  {
   "cell_type": "code",
   "execution_count": 170,
   "id": "3f1479a1-4918-4d5c-9a95-66002f70fdee",
   "metadata": {},
   "outputs": [],
   "source": [
    "text = \"The quick brown fox jumps over the lazy dog\""
   ]
  },
  {
   "cell_type": "code",
   "execution_count": 172,
   "id": "f59287ce-217d-4837-99eb-0a2ed57d1a7c",
   "metadata": {},
   "outputs": [
    {
     "name": "stdout",
     "output_type": "stream",
     "text": [
      "T h e   q u i c k   b r o w n   f o x   j u m p s   o v e r   t h e   l a z y   d o g "
     ]
    }
   ],
   "source": [
    "for i in text:\n",
    "    print(i,end = \" \")"
   ]
  },
  {
   "cell_type": "code",
   "execution_count": 174,
   "id": "71886845-0878-4705-8f1a-6866b7b7e164",
   "metadata": {},
   "outputs": [
    {
     "name": "stdout",
     "output_type": "stream",
     "text": [
      "e u i o o u o e e a o "
     ]
    }
   ],
   "source": [
    "for i in text:\n",
    "    # check if i is a vowel\n",
    "    if i ==\"a\" or i ==\"e\" or i==\"i\" or i==\"o\" or i==\"u\":\n",
    "        print(i,end = \" \")"
   ]
  },
  {
   "cell_type": "code",
   "execution_count": null,
   "id": "35ea1001-64ca-44a8-8886-4b6aaf838581",
   "metadata": {},
   "outputs": [],
   "source": []
  },
  {
   "cell_type": "code",
   "execution_count": 177,
   "id": "8d5bd722-ac8d-4346-8b29-cdb9caac4b48",
   "metadata": {},
   "outputs": [],
   "source": [
    "# check palindrome"
   ]
  },
  {
   "cell_type": "code",
   "execution_count": 179,
   "id": "521949ac-9128-4e51-b55c-afff3e3d1e2c",
   "metadata": {},
   "outputs": [
    {
     "data": {
      "text/plain": [
       "'ahsiN'"
      ]
     },
     "execution_count": 179,
     "metadata": {},
     "output_type": "execute_result"
    }
   ],
   "source": [
    "s = \"Nisha\"\n",
    "# rev string\n",
    "s[::-1]"
   ]
  },
  {
   "cell_type": "code",
   "execution_count": 183,
   "id": "ef85fab9-f794-4212-ac99-e84fdd30b063",
   "metadata": {},
   "outputs": [
    {
     "name": "stdin",
     "output_type": "stream",
     "text": [
      " radar\n"
     ]
    },
    {
     "name": "stdout",
     "output_type": "stream",
     "text": [
      "yes its palindrome\n"
     ]
    }
   ],
   "source": [
    "s = input()\n",
    "if s == s[::-1]:\n",
    "    print(\"yes its palindrome\")\n",
    "else:\n",
    "    print(\"Not palindrome\")"
   ]
  },
  {
   "cell_type": "code",
   "execution_count": null,
   "id": "8174789f-44bf-4603-9729-8ddf59cef44f",
   "metadata": {},
   "outputs": [],
   "source": []
  }
 ],
 "metadata": {
  "kernelspec": {
   "display_name": "Python 3 (ipykernel)",
   "language": "python",
   "name": "python3"
  },
  "language_info": {
   "codemirror_mode": {
    "name": "ipython",
    "version": 3
   },
   "file_extension": ".py",
   "mimetype": "text/x-python",
   "name": "python",
   "nbconvert_exporter": "python",
   "pygments_lexer": "ipython3",
   "version": "3.12.4"
  }
 },
 "nbformat": 4,
 "nbformat_minor": 5
}
