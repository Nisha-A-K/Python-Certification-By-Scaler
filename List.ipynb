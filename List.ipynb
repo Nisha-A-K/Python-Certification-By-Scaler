{
 "cells": [
  {
   "cell_type": "code",
   "execution_count": 1,
   "id": "51c9eed5-d839-4292-8e68-707c39697a60",
   "metadata": {},
   "outputs": [],
   "source": [
    "# creating list"
   ]
  },
  {
   "cell_type": "code",
   "execution_count": 3,
   "id": "203441bf-3300-4aa0-839d-588a6b78e7f1",
   "metadata": {},
   "outputs": [
    {
     "name": "stdout",
     "output_type": "stream",
     "text": [
      "<class 'list'>\n"
     ]
    }
   ],
   "source": [
    "l=list()\n",
    "print (type(l))"
   ]
  },
  {
   "cell_type": "code",
   "execution_count": 5,
   "id": "c17b61b9-10e5-4472-aac2-1eb0b317365e",
   "metadata": {},
   "outputs": [
    {
     "data": {
      "text/plain": [
       "list"
      ]
     },
     "execution_count": 5,
     "metadata": {},
     "output_type": "execute_result"
    }
   ],
   "source": [
    "l1 =[1,2,3]\n",
    "type(l1)"
   ]
  },
  {
   "cell_type": "code",
   "execution_count": 7,
   "id": "edb4ec5e-e7ed-4b8d-9751-59d171fcd160",
   "metadata": {},
   "outputs": [
    {
     "data": {
      "text/plain": [
       "3"
      ]
     },
     "execution_count": 7,
     "metadata": {},
     "output_type": "execute_result"
    }
   ],
   "source": [
    "len(l1)"
   ]
  },
  {
   "cell_type": "code",
   "execution_count": 9,
   "id": "1764634e-83c3-4e66-8297-328432916243",
   "metadata": {},
   "outputs": [],
   "source": [
    "# accessing"
   ]
  },
  {
   "cell_type": "code",
   "execution_count": 13,
   "id": "de2f752b-3794-4345-9562-cfe97f7f8e79",
   "metadata": {},
   "outputs": [
    {
     "data": {
      "text/plain": [
       "1"
      ]
     },
     "execution_count": 13,
     "metadata": {},
     "output_type": "execute_result"
    }
   ],
   "source": [
    "l1[0]"
   ]
  },
  {
   "cell_type": "code",
   "execution_count": 15,
   "id": "6f925927-e701-4cf4-9373-ea5e3688c988",
   "metadata": {},
   "outputs": [
    {
     "data": {
      "text/plain": [
       "1"
      ]
     },
     "execution_count": 15,
     "metadata": {},
     "output_type": "execute_result"
    }
   ],
   "source": [
    "l1[-len(l1)]"
   ]
  },
  {
   "cell_type": "code",
   "execution_count": 17,
   "id": "00ec903f-c80b-4bb3-9003-f343f7c5e533",
   "metadata": {},
   "outputs": [
    {
     "data": {
      "text/plain": [
       "3"
      ]
     },
     "execution_count": 17,
     "metadata": {},
     "output_type": "execute_result"
    }
   ],
   "source": [
    "l1[-1]"
   ]
  },
  {
   "cell_type": "code",
   "execution_count": 19,
   "id": "09283f86-e359-4fd2-ab70-e920eb7cfa88",
   "metadata": {},
   "outputs": [],
   "source": [
    "# muutable"
   ]
  },
  {
   "cell_type": "code",
   "execution_count": 21,
   "id": "07b10fa4-a403-41cb-9b39-278bb02de046",
   "metadata": {},
   "outputs": [
    {
     "data": {
      "text/plain": [
       "[1, 2, 3]"
      ]
     },
     "execution_count": 21,
     "metadata": {},
     "output_type": "execute_result"
    }
   ],
   "source": [
    "l1"
   ]
  },
  {
   "cell_type": "code",
   "execution_count": 25,
   "id": "130d1ef9-4478-4a5c-bc45-64ec1fdf6484",
   "metadata": {},
   "outputs": [
    {
     "data": {
      "text/plain": [
       "1855855161792"
      ]
     },
     "execution_count": 25,
     "metadata": {},
     "output_type": "execute_result"
    }
   ],
   "source": [
    "id(l1)"
   ]
  },
  {
   "cell_type": "code",
   "execution_count": 27,
   "id": "1315aa2a-b99a-4892-9715-461783d1e894",
   "metadata": {},
   "outputs": [],
   "source": [
    "l1[0] = 9"
   ]
  },
  {
   "cell_type": "code",
   "execution_count": 29,
   "id": "697137e0-3f6b-4d9a-976b-78cce5403969",
   "metadata": {},
   "outputs": [
    {
     "data": {
      "text/plain": [
       "[9, 2, 3]"
      ]
     },
     "execution_count": 29,
     "metadata": {},
     "output_type": "execute_result"
    }
   ],
   "source": [
    "l1"
   ]
  },
  {
   "cell_type": "code",
   "execution_count": 31,
   "id": "88dff9a6-d413-4e61-8544-e58330ff5866",
   "metadata": {},
   "outputs": [
    {
     "data": {
      "text/plain": [
       "1855855161792"
      ]
     },
     "execution_count": 31,
     "metadata": {},
     "output_type": "execute_result"
    }
   ],
   "source": [
    "id(l1)"
   ]
  },
  {
   "cell_type": "code",
   "execution_count": 33,
   "id": "b13fe5ed-8a53-4744-9ce5-5d2315cd694c",
   "metadata": {},
   "outputs": [],
   "source": [
    "# iterable?"
   ]
  },
  {
   "cell_type": "code",
   "execution_count": 35,
   "id": "177e5411-47a8-4751-a36c-1d47de0e2aa9",
   "metadata": {},
   "outputs": [
    {
     "name": "stdout",
     "output_type": "stream",
     "text": [
      "9\n",
      "2\n",
      "3\n"
     ]
    }
   ],
   "source": [
    "for i in l1:\n",
    "    print(i)"
   ]
  },
  {
   "cell_type": "code",
   "execution_count": 37,
   "id": "4ab469bc-a90a-46ea-a151-40cc1dc10e60",
   "metadata": {},
   "outputs": [],
   "source": [
    "# slicing"
   ]
  },
  {
   "cell_type": "code",
   "execution_count": 39,
   "id": "71552f7d-0f58-4c44-b2dd-84a48ecc3695",
   "metadata": {},
   "outputs": [
    {
     "data": {
      "text/plain": [
       "7"
      ]
     },
     "execution_count": 39,
     "metadata": {},
     "output_type": "execute_result"
    }
   ],
   "source": [
    "l =[2,3,5,8,9,1,7]\n",
    "len(l)"
   ]
  },
  {
   "cell_type": "code",
   "execution_count": 43,
   "id": "93fd8925-7c40-49ff-96ea-f7b3d93c42e0",
   "metadata": {},
   "outputs": [
    {
     "data": {
      "text/plain": [
       "2"
      ]
     },
     "execution_count": 43,
     "metadata": {},
     "output_type": "execute_result"
    }
   ],
   "source": [
    "l[0]"
   ]
  },
  {
   "cell_type": "code",
   "execution_count": 45,
   "id": "c99b5d37-8687-49ab-9ecc-2dd2670a88d3",
   "metadata": {},
   "outputs": [
    {
     "data": {
      "text/plain": [
       "[2, 3, 5]"
      ]
     },
     "execution_count": 45,
     "metadata": {},
     "output_type": "execute_result"
    }
   ],
   "source": [
    "l[0:3]"
   ]
  },
  {
   "cell_type": "code",
   "execution_count": 47,
   "id": "bf85beb6-39d3-4d9b-b1da-5cb211af1d21",
   "metadata": {},
   "outputs": [
    {
     "data": {
      "text/plain": [
       "[2, 3, 5, 8, 9, 1, 7]"
      ]
     },
     "execution_count": 47,
     "metadata": {},
     "output_type": "execute_result"
    }
   ],
   "source": [
    "l[::]"
   ]
  },
  {
   "cell_type": "code",
   "execution_count": 49,
   "id": "fc6e8484-a957-4d65-86ea-5003d92fd3b2",
   "metadata": {},
   "outputs": [
    {
     "data": {
      "text/plain": [
       "[7, 1, 9, 8, 5, 3, 2]"
      ]
     },
     "execution_count": 49,
     "metadata": {},
     "output_type": "execute_result"
    }
   ],
   "source": [
    "l[::-1]"
   ]
  },
  {
   "cell_type": "code",
   "execution_count": 53,
   "id": "0d28e0d5-b5b5-41e8-84e9-ba44aae91dc9",
   "metadata": {},
   "outputs": [
    {
     "data": {
      "text/plain": [
       "[1, 9, 8, 5, 3]"
      ]
     },
     "execution_count": 53,
     "metadata": {},
     "output_type": "execute_result"
    }
   ],
   "source": [
    "l[5:0:-1]"
   ]
  },
  {
   "cell_type": "code",
   "execution_count": 57,
   "id": "ca1e5d2c-167e-49fa-af4a-5bf55389caef",
   "metadata": {},
   "outputs": [],
   "source": []
  },
  {
   "cell_type": "code",
   "execution_count": 59,
   "id": "87b7af4f-0579-4626-931f-4906b398a094",
   "metadata": {},
   "outputs": [],
   "source": [
    "# list operations"
   ]
  },
  {
   "cell_type": "code",
   "execution_count": 67,
   "id": "c90290e6-b5c4-46d0-98da-24bd22f2f28c",
   "metadata": {},
   "outputs": [],
   "source": [
    "budget = [100,200,300,100]"
   ]
  },
  {
   "cell_type": "code",
   "execution_count": 69,
   "id": "ef556c12-ccfc-4ee1-b4f7-d96c42baa0dc",
   "metadata": {},
   "outputs": [
    {
     "data": {
      "text/plain": [
       "2"
      ]
     },
     "execution_count": 69,
     "metadata": {},
     "output_type": "execute_result"
    }
   ],
   "source": [
    "budget.count(100)"
   ]
  },
  {
   "cell_type": "code",
   "execution_count": 71,
   "id": "3ec82dd9-4506-4c51-94da-163dc7966a0d",
   "metadata": {},
   "outputs": [],
   "source": [
    "# index"
   ]
  },
  {
   "cell_type": "code",
   "execution_count": 73,
   "id": "efe36510-52a2-4d50-a4f6-d45d779082d6",
   "metadata": {},
   "outputs": [
    {
     "data": {
      "text/plain": [
       "1"
      ]
     },
     "execution_count": 73,
     "metadata": {},
     "output_type": "execute_result"
    }
   ],
   "source": [
    "budget.index(200)"
   ]
  },
  {
   "cell_type": "code",
   "execution_count": 77,
   "id": "59be005e-bd6c-4f0e-bfbb-558c5cc9e9d5",
   "metadata": {},
   "outputs": [
    {
     "data": {
      "text/plain": [
       "2"
      ]
     },
     "execution_count": 77,
     "metadata": {},
     "output_type": "execute_result"
    }
   ],
   "source": [
    "name = [\"rahul\",\"emma\",\"harry\"]\n",
    "name.index(\"harry\")\n"
   ]
  },
  {
   "cell_type": "code",
   "execution_count": 79,
   "id": "016b2d5a-aee6-4fe5-a5b3-378f68698087",
   "metadata": {},
   "outputs": [
    {
     "data": {
      "text/plain": [
       "['rahul', 'emma', 'harry']"
      ]
     },
     "execution_count": 79,
     "metadata": {},
     "output_type": "execute_result"
    }
   ],
   "source": [
    "# pop\n",
    "name"
   ]
  },
  {
   "cell_type": "code",
   "execution_count": 81,
   "id": "1a76fe56-1ab6-4610-a73e-8eebe1c54da4",
   "metadata": {},
   "outputs": [],
   "source": [
    "drop = name.pop()"
   ]
  },
  {
   "cell_type": "code",
   "execution_count": 83,
   "id": "00e53ebc-254a-432a-ab15-5bc7cbb7e65d",
   "metadata": {},
   "outputs": [
    {
     "data": {
      "text/plain": [
       "'harry'"
      ]
     },
     "execution_count": 83,
     "metadata": {},
     "output_type": "execute_result"
    }
   ],
   "source": [
    "drop"
   ]
  },
  {
   "cell_type": "code",
   "execution_count": 85,
   "id": "bc18fe9d-e0f5-40fc-b2e7-64e0d886dd56",
   "metadata": {},
   "outputs": [],
   "source": [
    "# remove\n",
    "name.remove(\"emma\")"
   ]
  },
  {
   "cell_type": "code",
   "execution_count": 87,
   "id": "46dce490-4c13-40dd-9a03-71f99a04b734",
   "metadata": {},
   "outputs": [
    {
     "data": {
      "text/plain": [
       "['rahul']"
      ]
     },
     "execution_count": 87,
     "metadata": {},
     "output_type": "execute_result"
    }
   ],
   "source": [
    "name"
   ]
  },
  {
   "cell_type": "code",
   "execution_count": 89,
   "id": "ffc86a8f-dc22-4074-a862-bd64249062b2",
   "metadata": {},
   "outputs": [],
   "source": [
    "#sort\n",
    "budget.sort()"
   ]
  },
  {
   "cell_type": "code",
   "execution_count": 91,
   "id": "e8cefa89-be1d-4d9f-a2d5-7cb99ae793c3",
   "metadata": {},
   "outputs": [
    {
     "data": {
      "text/plain": [
       "[100, 100, 200, 300]"
      ]
     },
     "execution_count": 91,
     "metadata": {},
     "output_type": "execute_result"
    }
   ],
   "source": [
    "budget"
   ]
  },
  {
   "cell_type": "code",
   "execution_count": 95,
   "id": "55848c04-2c2c-49eb-ac0b-b5fa8a37e84c",
   "metadata": {},
   "outputs": [
    {
     "data": {
      "text/plain": [
       "['rahul']"
      ]
     },
     "execution_count": 95,
     "metadata": {},
     "output_type": "execute_result"
    }
   ],
   "source": [
    "name"
   ]
  },
  {
   "cell_type": "code",
   "execution_count": 97,
   "id": "827c7995-80a2-4f1d-b3e3-15b9a4bc7dcd",
   "metadata": {},
   "outputs": [],
   "source": [
    "#insert\n",
    "name.insert(1,\"emma\")"
   ]
  },
  {
   "cell_type": "code",
   "execution_count": 99,
   "id": "f643c2f3-17a6-4e3c-a3df-80223ed5e249",
   "metadata": {},
   "outputs": [
    {
     "data": {
      "text/plain": [
       "['rahul', 'emma']"
      ]
     },
     "execution_count": 99,
     "metadata": {},
     "output_type": "execute_result"
    }
   ],
   "source": [
    "name"
   ]
  },
  {
   "cell_type": "code",
   "execution_count": 101,
   "id": "56ef9ee6-b5d3-4429-b2a4-8b42b87a083d",
   "metadata": {},
   "outputs": [],
   "source": [
    "name.insert(0,\"Harry\")"
   ]
  },
  {
   "cell_type": "code",
   "execution_count": 103,
   "id": "cdaa733d-1678-406e-866d-29a8500ee025",
   "metadata": {},
   "outputs": [
    {
     "data": {
      "text/plain": [
       "['Harry', 'rahul', 'emma']"
      ]
     },
     "execution_count": 103,
     "metadata": {},
     "output_type": "execute_result"
    }
   ],
   "source": [
    "name"
   ]
  },
  {
   "cell_type": "code",
   "execution_count": 105,
   "id": "0cbb137c-91af-4f3b-b545-0034fccb2e63",
   "metadata": {},
   "outputs": [],
   "source": [
    "# append"
   ]
  },
  {
   "cell_type": "code",
   "execution_count": 107,
   "id": "aaf287ff-b7be-4dc2-acc2-e939298d2729",
   "metadata": {},
   "outputs": [],
   "source": [
    "l = [1,2,3,4,5]"
   ]
  },
  {
   "cell_type": "code",
   "execution_count": 111,
   "id": "a4b1b83c-540d-4493-9ba0-c4ed20def34f",
   "metadata": {},
   "outputs": [],
   "source": [
    "l.append(\"Nisha\")"
   ]
  },
  {
   "cell_type": "code",
   "execution_count": 113,
   "id": "1dbbd309-b10a-4b09-a8e7-fdad3eaf4f3a",
   "metadata": {},
   "outputs": [
    {
     "data": {
      "text/plain": [
       "[1, 2, 3, 4, 5, 'Nisha']"
      ]
     },
     "execution_count": 113,
     "metadata": {},
     "output_type": "execute_result"
    }
   ],
   "source": [
    "l"
   ]
  },
  {
   "cell_type": "code",
   "execution_count": 115,
   "id": "f261661c-f954-4762-b61a-8bac7b661992",
   "metadata": {},
   "outputs": [],
   "source": [
    "l.append(8)"
   ]
  },
  {
   "cell_type": "code",
   "execution_count": 117,
   "id": "f468d7cb-3a86-4c23-8531-3000f9b6ba3a",
   "metadata": {},
   "outputs": [
    {
     "data": {
      "text/plain": [
       "[1, 2, 3, 4, 5, 'Nisha', 8]"
      ]
     },
     "execution_count": 117,
     "metadata": {},
     "output_type": "execute_result"
    }
   ],
   "source": [
    "l"
   ]
  },
  {
   "cell_type": "code",
   "execution_count": 119,
   "id": "cb17771c-5d83-4ab5-973a-92663146055a",
   "metadata": {},
   "outputs": [],
   "source": [
    "l1 = [6,7 ,8]"
   ]
  },
  {
   "cell_type": "code",
   "execution_count": 121,
   "id": "9c6224e0-0c36-4c9f-9ed5-2a75ab5c6020",
   "metadata": {},
   "outputs": [],
   "source": [
    "l.append(l1)"
   ]
  },
  {
   "cell_type": "code",
   "execution_count": 123,
   "id": "2544ac57-9d21-4598-baa7-7a958b9a12cd",
   "metadata": {},
   "outputs": [
    {
     "data": {
      "text/plain": [
       "[1, 2, 3, 4, 5, 'Nisha', 8, [6, 7, 8]]"
      ]
     },
     "execution_count": 123,
     "metadata": {},
     "output_type": "execute_result"
    }
   ],
   "source": [
    "l"
   ]
  },
  {
   "cell_type": "code",
   "execution_count": 125,
   "id": "662c5d0a-7c50-42f7-8f26-14a9498f1e25",
   "metadata": {},
   "outputs": [
    {
     "data": {
      "text/plain": [
       "[1, 2, 3, 4, 5, 'Nisha', 8, [6, 7, 8]]"
      ]
     },
     "execution_count": 125,
     "metadata": {},
     "output_type": "execute_result"
    }
   ],
   "source": [
    "# extend\n",
    "l"
   ]
  },
  {
   "cell_type": "code",
   "execution_count": 127,
   "id": "621e687f-0ef1-4902-af64-3f2d8edad22b",
   "metadata": {},
   "outputs": [
    {
     "data": {
      "text/plain": [
       "[6, 7, 8]"
      ]
     },
     "execution_count": 127,
     "metadata": {},
     "output_type": "execute_result"
    }
   ],
   "source": [
    "l1"
   ]
  },
  {
   "cell_type": "code",
   "execution_count": 129,
   "id": "a952ec62-1dad-4685-b72a-d50f4c579b15",
   "metadata": {},
   "outputs": [],
   "source": [
    "l.extend(l1)"
   ]
  },
  {
   "cell_type": "code",
   "execution_count": 131,
   "id": "7f40ec57-01bf-47e3-b3cf-b294a334a317",
   "metadata": {},
   "outputs": [
    {
     "data": {
      "text/plain": [
       "[1, 2, 3, 4, 5, 'Nisha', 8, [6, 7, 8], 6, 7, 8]"
      ]
     },
     "execution_count": 131,
     "metadata": {},
     "output_type": "execute_result"
    }
   ],
   "source": [
    "l"
   ]
  },
  {
   "cell_type": "code",
   "execution_count": 133,
   "id": "bcf228b8-5c51-4853-b9b5-67558d2f0d89",
   "metadata": {},
   "outputs": [],
   "source": [
    "s=\"Nisha\""
   ]
  },
  {
   "cell_type": "code",
   "execution_count": 135,
   "id": "ae356493-20c9-4b09-8589-2519c546a310",
   "metadata": {},
   "outputs": [
    {
     "name": "stdout",
     "output_type": "stream",
     "text": [
      "N\n",
      "i\n",
      "s\n",
      "h\n",
      "a\n"
     ]
    }
   ],
   "source": [
    "for i in s:\n",
    "    print(i)"
   ]
  },
  {
   "cell_type": "code",
   "execution_count": 137,
   "id": "52bc8d81-ef46-4c7d-964a-7c5cd5a89334",
   "metadata": {},
   "outputs": [
    {
     "data": {
      "text/plain": [
       "[1, 2, 3, 4, 5, 'Nisha', 8, [6, 7, 8], 6, 7, 8]"
      ]
     },
     "execution_count": 137,
     "metadata": {},
     "output_type": "execute_result"
    }
   ],
   "source": [
    "l"
   ]
  },
  {
   "cell_type": "code",
   "execution_count": 139,
   "id": "3a9613b7-7d7a-42f7-b17f-7150e4f46f20",
   "metadata": {},
   "outputs": [],
   "source": [
    "l.extend(s)"
   ]
  },
  {
   "cell_type": "code",
   "execution_count": 141,
   "id": "0213c265-238d-421b-9a86-3590be30bab2",
   "metadata": {},
   "outputs": [
    {
     "data": {
      "text/plain": [
       "[1, 2, 3, 4, 5, 'Nisha', 8, [6, 7, 8], 6, 7, 8, 'N', 'i', 's', 'h', 'a']"
      ]
     },
     "execution_count": 141,
     "metadata": {},
     "output_type": "execute_result"
    }
   ],
   "source": [
    "l"
   ]
  },
  {
   "cell_type": "code",
   "execution_count": 143,
   "id": "9101c529-f4b6-47cc-a426-7bcbacac20d4",
   "metadata": {},
   "outputs": [],
   "source": [
    "# heterogenous list\n",
    "l=[2,\"Sachin\",2.5,True]\n"
   ]
  },
  {
   "cell_type": "code",
   "execution_count": 145,
   "id": "1cdf6fd1-4dd4-4169-b39a-21a49017d3b2",
   "metadata": {},
   "outputs": [
    {
     "data": {
      "text/plain": [
       "[2, 'Sachin', 2.5, True]"
      ]
     },
     "execution_count": 145,
     "metadata": {},
     "output_type": "execute_result"
    }
   ],
   "source": [
    "l"
   ]
  },
  {
   "cell_type": "code",
   "execution_count": 147,
   "id": "07e26d0c-f314-4fac-a549-081124a47eb3",
   "metadata": {},
   "outputs": [
    {
     "data": {
      "text/plain": [
       "list"
      ]
     },
     "execution_count": 147,
     "metadata": {},
     "output_type": "execute_result"
    }
   ],
   "source": [
    "type(l)"
   ]
  },
  {
   "cell_type": "code",
   "execution_count": 151,
   "id": "ae6738a4-01f0-4a23-85e0-7a7e704c8e4a",
   "metadata": {},
   "outputs": [
    {
     "data": {
      "text/plain": [
       "bool"
      ]
     },
     "execution_count": 151,
     "metadata": {},
     "output_type": "execute_result"
    }
   ],
   "source": [
    "type(l[3])"
   ]
  },
  {
   "cell_type": "code",
   "execution_count": 155,
   "id": "29e0ddb3-921c-40be-8920-da4591213923",
   "metadata": {},
   "outputs": [
    {
     "name": "stdout",
     "output_type": "stream",
     "text": [
      "2\n",
      "Sachin\n",
      "2.5\n",
      "True\n"
     ]
    }
   ],
   "source": [
    "for i in l:\n",
    "    print(i)"
   ]
  },
  {
   "cell_type": "code",
   "execution_count": null,
   "id": "44230e59-d0f8-4a3b-8adf-90ba0d9efdd4",
   "metadata": {},
   "outputs": [],
   "source": []
  },
  {
   "cell_type": "code",
   "execution_count": 158,
   "id": "e08eade5-3660-4a90-b65f-1733ba5574a0",
   "metadata": {},
   "outputs": [],
   "source": [
    "# 2d List"
   ]
  },
  {
   "cell_type": "code",
   "execution_count": 160,
   "id": "b481818f-d279-474f-9301-5a401a861e05",
   "metadata": {},
   "outputs": [],
   "source": [
    "l1 = [1,2,3]\n",
    "l2 = [4,5,6]\n",
    "l3 = [7,8,9]\n",
    "\n",
    "l =[l1,l2,l3]\n"
   ]
  },
  {
   "cell_type": "code",
   "execution_count": 162,
   "id": "f0b7c4a7-054f-47e6-9083-4ce84962b8ae",
   "metadata": {},
   "outputs": [
    {
     "data": {
      "text/plain": [
       "[[1, 2, 3], [4, 5, 6], [7, 8, 9]]"
      ]
     },
     "execution_count": 162,
     "metadata": {},
     "output_type": "execute_result"
    }
   ],
   "source": [
    "l"
   ]
  },
  {
   "cell_type": "code",
   "execution_count": 164,
   "id": "18bbcce0-1cba-4d1b-8c05-5cfb6075d28d",
   "metadata": {},
   "outputs": [
    {
     "data": {
      "text/plain": [
       "[1, 2, 3]"
      ]
     },
     "execution_count": 164,
     "metadata": {},
     "output_type": "execute_result"
    }
   ],
   "source": [
    "# indexing\n",
    "l[0]"
   ]
  },
  {
   "cell_type": "code",
   "execution_count": 166,
   "id": "213c551b-f646-495a-8f5e-4b75508c6b54",
   "metadata": {},
   "outputs": [
    {
     "data": {
      "text/plain": [
       "[7, 8, 9]"
      ]
     },
     "execution_count": 166,
     "metadata": {},
     "output_type": "execute_result"
    }
   ],
   "source": [
    "l[2]"
   ]
  },
  {
   "cell_type": "code",
   "execution_count": 168,
   "id": "6fd77c65-3299-4e4c-8dee-33963480ef15",
   "metadata": {},
   "outputs": [
    {
     "data": {
      "text/plain": [
       "2"
      ]
     },
     "execution_count": 168,
     "metadata": {},
     "output_type": "execute_result"
    }
   ],
   "source": [
    "l[0][1]"
   ]
  },
  {
   "cell_type": "code",
   "execution_count": 170,
   "id": "7dfa3f64-a294-4a72-baf4-e76e1cf392e3",
   "metadata": {},
   "outputs": [
    {
     "data": {
      "text/plain": [
       "2"
      ]
     },
     "execution_count": 170,
     "metadata": {},
     "output_type": "execute_result"
    }
   ],
   "source": [
    "l1[1]"
   ]
  },
  {
   "cell_type": "code",
   "execution_count": 172,
   "id": "01ecc5b6-513d-4812-978b-def87d1df92d",
   "metadata": {},
   "outputs": [
    {
     "data": {
      "text/plain": [
       "[[1, 2, 3], [4, 5, 6], [7, 8, 9]]"
      ]
     },
     "execution_count": 172,
     "metadata": {},
     "output_type": "execute_result"
    }
   ],
   "source": [
    "# iteration on 2d list\n",
    "l"
   ]
  },
  {
   "cell_type": "code",
   "execution_count": 174,
   "id": "183a9869-f47b-4b15-ac75-88e976a2d1f7",
   "metadata": {},
   "outputs": [
    {
     "name": "stdout",
     "output_type": "stream",
     "text": [
      "[1, 2, 3]\n",
      "[4, 5, 6]\n",
      "[7, 8, 9]\n"
     ]
    }
   ],
   "source": [
    "for i in l:\n",
    "    print(i)"
   ]
  },
  {
   "cell_type": "code",
   "execution_count": 176,
   "id": "689b06c6-8cba-464a-b132-0879f89591b4",
   "metadata": {},
   "outputs": [
    {
     "name": "stdout",
     "output_type": "stream",
     "text": [
      "1\n",
      "2\n",
      "3\n"
     ]
    }
   ],
   "source": [
    "for i in l1:\n",
    "    print(i)"
   ]
  },
  {
   "cell_type": "code",
   "execution_count": 178,
   "id": "5df6182d-7604-41b5-877e-424c2793159f",
   "metadata": {},
   "outputs": [
    {
     "name": "stdout",
     "output_type": "stream",
     "text": [
      "1\n",
      "2\n",
      "3\n",
      "4\n",
      "5\n",
      "6\n",
      "7\n",
      "8\n",
      "9\n"
     ]
    }
   ],
   "source": [
    "for i in l:\n",
    "    for j in i:\n",
    "       print(j)"
   ]
  },
  {
   "cell_type": "code",
   "execution_count": 180,
   "id": "15f59d69-a69d-47ab-ae44-62c357f1efd2",
   "metadata": {},
   "outputs": [],
   "source": [
    "# list comprehension"
   ]
  },
  {
   "cell_type": "code",
   "execution_count": 182,
   "id": "d2d2da8b-b2b3-4512-89af-007d0a945fc4",
   "metadata": {},
   "outputs": [
    {
     "name": "stdout",
     "output_type": "stream",
     "text": [
      "0\n",
      "1\n",
      "2\n",
      "3\n",
      "4\n",
      "5\n",
      "6\n",
      "7\n",
      "8\n",
      "9\n"
     ]
    }
   ],
   "source": [
    "for i in range(10):\n",
    "    print(i)"
   ]
  },
  {
   "cell_type": "code",
   "execution_count": 184,
   "id": "d53a1050-174f-4567-91ec-e0e52f524e38",
   "metadata": {},
   "outputs": [],
   "source": [
    "l=[]"
   ]
  },
  {
   "cell_type": "code",
   "execution_count": 186,
   "id": "65d7acee-99b8-4ba3-ac6f-cf7543d9dc2f",
   "metadata": {},
   "outputs": [
    {
     "name": "stdout",
     "output_type": "stream",
     "text": [
      "[0, 1, 2, 3, 4, 5, 6, 7, 8, 9]\n"
     ]
    }
   ],
   "source": [
    "for i in range(10):\n",
    "    l.append(i)\n",
    "print(l)"
   ]
  },
  {
   "cell_type": "code",
   "execution_count": 188,
   "id": "5035cd4b-2dc3-4876-a80a-7816a78ae29c",
   "metadata": {},
   "outputs": [
    {
     "data": {
      "text/plain": [
       "[0, 1, 2, 3, 4, 5, 6, 7, 8, 9, 10, 11, 12, 13, 14, 15, 16, 17, 18, 19]"
      ]
     },
     "execution_count": 188,
     "metadata": {},
     "output_type": "execute_result"
    }
   ],
   "source": [
    "l = [i for i in range(20)]\n",
    "l"
   ]
  },
  {
   "cell_type": "code",
   "execution_count": 190,
   "id": "32962765-b208-4063-987a-5f3365299dd1",
   "metadata": {},
   "outputs": [
    {
     "data": {
      "text/plain": [
       "[0,\n",
       " 1,\n",
       " 4,\n",
       " 9,\n",
       " 16,\n",
       " 25,\n",
       " 36,\n",
       " 49,\n",
       " 64,\n",
       " 81,\n",
       " 100,\n",
       " 121,\n",
       " 144,\n",
       " 169,\n",
       " 196,\n",
       " 225,\n",
       " 256,\n",
       " 289,\n",
       " 324,\n",
       " 361]"
      ]
     },
     "execution_count": 190,
     "metadata": {},
     "output_type": "execute_result"
    }
   ],
   "source": [
    "l = [i ** 2 for i in range(20)]\n",
    "l"
   ]
  },
  {
   "cell_type": "code",
   "execution_count": null,
   "id": "b3ff3b63-d7c1-4bb0-9d88-b7c7ebebea04",
   "metadata": {},
   "outputs": [],
   "source": []
  },
  {
   "cell_type": "code",
   "execution_count": 195,
   "id": "1caebc55-06ff-4406-a4ce-f8682fa26251",
   "metadata": {},
   "outputs": [
    {
     "name": "stdout",
     "output_type": "stream",
     "text": [
      "75\n"
     ]
    }
   ],
   "source": [
    "# find total population\n",
    "\n",
    "l =[4,6,8,2,4,6,3,7,2,3,4,5,7,9,3,2]\n",
    "\n",
    "#access the elements\n",
    "sum=0\n",
    "for i in l:\n",
    "    #sum\n",
    "    sum +=i\n",
    "print(sum)\n"
   ]
  },
  {
   "cell_type": "code",
   "execution_count": null,
   "id": "b03a1248-af1b-43a5-9e58-c68a12a35c7e",
   "metadata": {},
   "outputs": [],
   "source": []
  }
 ],
 "metadata": {
  "kernelspec": {
   "display_name": "Python 3 (ipykernel)",
   "language": "python",
   "name": "python3"
  },
  "language_info": {
   "codemirror_mode": {
    "name": "ipython",
    "version": 3
   },
   "file_extension": ".py",
   "mimetype": "text/x-python",
   "name": "python",
   "nbconvert_exporter": "python",
   "pygments_lexer": "ipython3",
   "version": "3.12.4"
  }
 },
 "nbformat": 4,
 "nbformat_minor": 5
}
