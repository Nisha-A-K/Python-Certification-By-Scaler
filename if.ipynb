{
 "cells": [
  {
   "cell_type": "code",
   "execution_count": 2,
   "id": "b4b2ca32-3a33-4361-a955-c1075a373e41",
   "metadata": {},
   "outputs": [],
   "source": [
    "#if-else"
   ]
  },
  {
   "cell_type": "code",
   "execution_count": 4,
   "id": "692c4e0a-1f62-4a76-99bc-015795c7216e",
   "metadata": {},
   "outputs": [
    {
     "name": "stdin",
     "output_type": "stream",
     "text": [
      " 22\n"
     ]
    }
   ],
   "source": [
    "age = int(input())"
   ]
  },
  {
   "cell_type": "code",
   "execution_count": 8,
   "id": "875247f4-a83d-4c4a-9153-ff27fca780d7",
   "metadata": {},
   "outputs": [
    {
     "name": "stdout",
     "output_type": "stream",
     "text": [
      "you can drive\n"
     ]
    }
   ],
   "source": [
    "if (age>18):\n",
    "    print(\"you can drive\")\n",
    "else:\n",
    "    print(\"you can't drive\")"
   ]
  },
  {
   "cell_type": "code",
   "execution_count": null,
   "id": "49c52714-5957-45d3-b364-522053449d6a",
   "metadata": {},
   "outputs": [],
   "source": [
    "# nested if-else"
   ]
  },
  {
   "cell_type": "code",
   "execution_count": 29,
   "id": "e54a128c-481e-460b-888e-6c8e8cb560f0",
   "metadata": {},
   "outputs": [
    {
     "name": "stdin",
     "output_type": "stream",
     "text": [
      " 12\n"
     ]
    },
    {
     "name": "stdout",
     "output_type": "stream",
     "text": [
      "you can't drive\n"
     ]
    }
   ],
   "source": [
    "age = int(input())\n",
    "if(age>18):\n",
    "    if(age>=65):\n",
    "        print(\"take rest\")\n",
    "    else:\n",
    "        print(\"you can drive\")\n",
    "else:\n",
    "    print(\"you can't drive\")"
   ]
  },
  {
   "cell_type": "code",
   "execution_count": null,
   "id": "01e2d9e9-453b-499a-9f6b-8c9ebcaa8586",
   "metadata": {},
   "outputs": [],
   "source": []
  },
  {
   "cell_type": "code",
   "execution_count": 32,
   "id": "f9c39bb0-f8e8-4915-adae-c7514730962b",
   "metadata": {},
   "outputs": [],
   "source": [
    "# if-elif-else"
   ]
  },
  {
   "cell_type": "code",
   "execution_count": 38,
   "id": "0fc8799e-383b-4df0-b321-556df9f15302",
   "metadata": {},
   "outputs": [
    {
     "name": "stdin",
     "output_type": "stream",
     "text": [
      " 12\n"
     ]
    },
    {
     "name": "stdout",
     "output_type": "stream",
     "text": [
      "+ve\n"
     ]
    }
   ],
   "source": [
    "num = int(input())\n",
    "if(num>0):\n",
    "  print(\"+ve\")\n",
    "elif(num ==0):\n",
    "    print(\"zero\")\n",
    "else:\n",
    "    print(\"-ve\")\n",
    "    \n",
    "    "
   ]
  },
  {
   "cell_type": "code",
   "execution_count": null,
   "id": "10ab8f41-bc54-4616-8e01-945ab7bdd404",
   "metadata": {},
   "outputs": [],
   "source": []
  },
  {
   "cell_type": "code",
   "execution_count": 41,
   "id": "5a78df63-b65f-4310-9672-31a04bb74ce9",
   "metadata": {},
   "outputs": [],
   "source": [
    "# Task"
   ]
  },
  {
   "cell_type": "code",
   "execution_count": 57,
   "id": "5e419ec0-d958-4e44-8161-c499220d7449",
   "metadata": {},
   "outputs": [
    {
     "name": "stdout",
     "output_type": "stream",
     "text": [
      "90\n",
      "30\n",
      "100\n",
      "highest 100\n",
      "50\n",
      "80\n",
      "95\n"
     ]
    }
   ],
   "source": [
    "marks = [90,30,100,50,80,95]\n",
    "highest = marks[0]\n",
    "for i in marks:\n",
    "    print(i)\n",
    "    if(i>highest):\n",
    "        highest=i\n",
    "        print(\"highest\",highest)\n",
    "    # check condition\n",
    "\n"
   ]
  },
  {
   "cell_type": "code",
   "execution_count": 59,
   "id": "502e4b4b-7d1f-42c1-be00-d9cda0daf114",
   "metadata": {},
   "outputs": [
    {
     "data": {
      "text/plain": [
       "100"
      ]
     },
     "execution_count": 59,
     "metadata": {},
     "output_type": "execute_result"
    }
   ],
   "source": [
    "#max\n",
    "max(marks)"
   ]
  },
  {
   "cell_type": "code",
   "execution_count": 61,
   "id": "d6aeab66-e9c0-47e9-8c75-dd7f1071e787",
   "metadata": {},
   "outputs": [
    {
     "data": {
      "text/plain": [
       "30"
      ]
     },
     "execution_count": 61,
     "metadata": {},
     "output_type": "execute_result"
    }
   ],
   "source": [
    "#min\n",
    "min(marks)"
   ]
  },
  {
   "cell_type": "code",
   "execution_count": null,
   "id": "43a0819f-3191-4105-a5fc-ac0c04c65ed9",
   "metadata": {},
   "outputs": [],
   "source": []
  },
  {
   "cell_type": "code",
   "execution_count": 64,
   "id": "6a9886b8-7602-4146-92a8-9e662176454b",
   "metadata": {},
   "outputs": [],
   "source": [
    "#grading system"
   ]
  },
  {
   "cell_type": "code",
   "execution_count": 74,
   "id": "ec7194dd-88eb-48ac-85f4-d7c82a141580",
   "metadata": {},
   "outputs": [
    {
     "name": "stdin",
     "output_type": "stream",
     "text": [
      " 82\n"
     ]
    },
    {
     "name": "stdout",
     "output_type": "stream",
     "text": [
      "B Grade\n"
     ]
    }
   ],
   "source": [
    "marks = int(input())\n",
    "if (marks>=90 and marks<=100):\n",
    "    print(\"A Grade\")\n",
    "elif(marks>=80 and marks<90):\n",
    "     print(\"B Grade\")\n",
    "elif (marks>=70 and marks<80):\n",
    "     print(\"C Grade\")\n",
    "elif (marks>=60 and marks<70):\n",
    "     print(\"D Grade\")\n",
    "else:\n",
    "    print(\"Disqualified\")"
   ]
  },
  {
   "cell_type": "code",
   "execution_count": null,
   "id": "b4f15d2c-d47b-4e79-8158-54dc7336cc52",
   "metadata": {},
   "outputs": [],
   "source": []
  }
 ],
 "metadata": {
  "kernelspec": {
   "display_name": "Python 3 (ipykernel)",
   "language": "python",
   "name": "python3"
  },
  "language_info": {
   "codemirror_mode": {
    "name": "ipython",
    "version": 3
   },
   "file_extension": ".py",
   "mimetype": "text/x-python",
   "name": "python",
   "nbconvert_exporter": "python",
   "pygments_lexer": "ipython3",
   "version": "3.12.4"
  }
 },
 "nbformat": 4,
 "nbformat_minor": 5
}
