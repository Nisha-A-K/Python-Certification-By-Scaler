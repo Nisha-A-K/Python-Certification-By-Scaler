{
 "cells": [
  {
   "cell_type": "code",
   "execution_count": 1,
   "id": "ac42401c-211e-4cb0-8ad3-33560df3af7a",
   "metadata": {},
   "outputs": [],
   "source": [
    "# print"
   ]
  },
  {
   "cell_type": "code",
   "execution_count": 3,
   "id": "50492f6e-0fc6-4c47-9979-ccdb5678ca3b",
   "metadata": {},
   "outputs": [
    {
     "name": "stdout",
     "output_type": "stream",
     "text": [
      "Nisha\n"
     ]
    }
   ],
   "source": [
    "# single word\n",
    "print(\"Nisha\")"
   ]
  },
  {
   "cell_type": "code",
   "execution_count": 5,
   "id": "2f9d8b4f-3a80-4299-974b-f87fdced0106",
   "metadata": {},
   "outputs": [
    {
     "name": "stdout",
     "output_type": "stream",
     "text": [
      "Alice Bob 25 32\n"
     ]
    }
   ],
   "source": [
    "# multiple entries\n",
    "print(\"Alice\",\"Bob\",25,32)"
   ]
  },
  {
   "cell_type": "code",
   "execution_count": 7,
   "id": "f94be093-b2fe-42bb-9aa7-58721546088d",
   "metadata": {},
   "outputs": [
    {
     "data": {
      "text/plain": [
       "\u001b[1;31mSignature:\u001b[0m \u001b[0mprint\u001b[0m\u001b[1;33m(\u001b[0m\u001b[1;33m*\u001b[0m\u001b[0margs\u001b[0m\u001b[1;33m,\u001b[0m \u001b[0msep\u001b[0m\u001b[1;33m=\u001b[0m\u001b[1;34m' '\u001b[0m\u001b[1;33m,\u001b[0m \u001b[0mend\u001b[0m\u001b[1;33m=\u001b[0m\u001b[1;34m'\\n'\u001b[0m\u001b[1;33m,\u001b[0m \u001b[0mfile\u001b[0m\u001b[1;33m=\u001b[0m\u001b[1;32mNone\u001b[0m\u001b[1;33m,\u001b[0m \u001b[0mflush\u001b[0m\u001b[1;33m=\u001b[0m\u001b[1;32mFalse\u001b[0m\u001b[1;33m)\u001b[0m\u001b[1;33m\u001b[0m\u001b[1;33m\u001b[0m\u001b[0m\n",
       "\u001b[1;31mDocstring:\u001b[0m\n",
       "Prints the values to a stream, or to sys.stdout by default.\n",
       "\n",
       "sep\n",
       "  string inserted between values, default a space.\n",
       "end\n",
       "  string appended after the last value, default a newline.\n",
       "file\n",
       "  a file-like object (stream); defaults to the current sys.stdout.\n",
       "flush\n",
       "  whether to forcibly flush the stream.\n",
       "\u001b[1;31mType:\u001b[0m      builtin_function_or_method"
      ]
     },
     "metadata": {},
     "output_type": "display_data"
    }
   ],
   "source": [
    "print?"
   ]
  },
  {
   "cell_type": "code",
   "execution_count": null,
   "id": "cc271e91-b9dd-417a-b23a-92aaf0ba9098",
   "metadata": {},
   "outputs": [],
   "source": []
  },
  {
   "cell_type": "code",
   "execution_count": 10,
   "id": "6d45cc69-5919-4c0e-9836-459c59d07f79",
   "metadata": {},
   "outputs": [],
   "source": [
    "# changing default separator"
   ]
  },
  {
   "cell_type": "code",
   "execution_count": 12,
   "id": "199ff82c-a822-41d3-8a8f-0d11d01e1ac1",
   "metadata": {},
   "outputs": [],
   "source": [
    "# sep"
   ]
  },
  {
   "cell_type": "code",
   "execution_count": 14,
   "id": "26a7dcea-604b-4525-8c65-0354a3ca32b7",
   "metadata": {},
   "outputs": [
    {
     "name": "stdout",
     "output_type": "stream",
     "text": [
      "Alice Bob 25 32\n"
     ]
    }
   ],
   "source": [
    "print(\"Alice\",\"Bob\",25,32)"
   ]
  },
  {
   "cell_type": "code",
   "execution_count": 16,
   "id": "253b2a8c-8812-4397-af91-dd4b4a270a78",
   "metadata": {},
   "outputs": [
    {
     "name": "stdout",
     "output_type": "stream",
     "text": [
      "Alice,Bob,25,32\n"
     ]
    }
   ],
   "source": [
    "print(\"Alice\",\"Bob\",25,32, sep = \",\")"
   ]
  },
  {
   "cell_type": "code",
   "execution_count": 18,
   "id": "5f4c4b06-8f21-4af4-9805-bf898b1fa70f",
   "metadata": {},
   "outputs": [
    {
     "name": "stdout",
     "output_type": "stream",
     "text": [
      "Alice->Bob->25->32\n"
     ]
    }
   ],
   "source": [
    "print(\"Alice\",\"Bob\",25,32, sep = \"->\")"
   ]
  },
  {
   "cell_type": "code",
   "execution_count": 20,
   "id": "6d3c937a-b92d-42f3-8b54-29667da3b07f",
   "metadata": {},
   "outputs": [
    {
     "name": "stdout",
     "output_type": "stream",
     "text": [
      "Alice\n",
      "Bob\n",
      "25\n",
      "32\n"
     ]
    }
   ],
   "source": [
    "print(\"Alice\",\"Bob\",25,32, sep = \"\\n\")"
   ]
  },
  {
   "cell_type": "code",
   "execution_count": null,
   "id": "484af3e4-6576-4d76-ac72-5d4317eb4e17",
   "metadata": {},
   "outputs": [],
   "source": []
  },
  {
   "cell_type": "code",
   "execution_count": 23,
   "id": "58f388a2-d273-4f35-92a1-5bab8555ba07",
   "metadata": {},
   "outputs": [],
   "source": [
    "# Changing default end"
   ]
  },
  {
   "cell_type": "code",
   "execution_count": 25,
   "id": "f38b3244-a048-4960-9a1b-2d563ea6847a",
   "metadata": {},
   "outputs": [
    {
     "name": "stdout",
     "output_type": "stream",
     "text": [
      "Alice 25\n",
      "Bob 32\n"
     ]
    }
   ],
   "source": [
    "print(\"Alice\",25)\n",
    "print(\"Bob\",32)"
   ]
  },
  {
   "cell_type": "code",
   "execution_count": 27,
   "id": "6a3a75ef-1cc5-45f1-b9f1-ab37123a8d68",
   "metadata": {},
   "outputs": [
    {
     "name": "stdout",
     "output_type": "stream",
     "text": [
      "Alice 25 Bob 32\n"
     ]
    }
   ],
   "source": [
    "print(\"Alice\",25, end = \" \")\n",
    "print(\"Bob\",32)"
   ]
  },
  {
   "cell_type": "code",
   "execution_count": 29,
   "id": "8820cfd2-6076-4512-9211-62be21319831",
   "metadata": {},
   "outputs": [
    {
     "name": "stdout",
     "output_type": "stream",
     "text": [
      "Alice 25->Bob 32\n"
     ]
    }
   ],
   "source": [
    "print(\"Alice\",25, end = \"->\")\n",
    "print(\"Bob\",32)"
   ]
  },
  {
   "cell_type": "code",
   "execution_count": 33,
   "id": "c2b61df7-4913-4ec5-8a4e-c23940f68211",
   "metadata": {},
   "outputs": [
    {
     "name": "stdout",
     "output_type": "stream",
     "text": [
      "Alice\n",
      "25->Bob 32\n"
     ]
    }
   ],
   "source": [
    "print(\"Alice\",25, sep = \"\\n\", end = \"->\")\n",
    "print(\"Bob\",32)"
   ]
  },
  {
   "cell_type": "code",
   "execution_count": null,
   "id": "47bd51a1-900d-4291-a012-21f58d42069e",
   "metadata": {},
   "outputs": [],
   "source": []
  }
 ],
 "metadata": {
  "kernelspec": {
   "display_name": "Python 3 (ipykernel)",
   "language": "python",
   "name": "python3"
  },
  "language_info": {
   "codemirror_mode": {
    "name": "ipython",
    "version": 3
   },
   "file_extension": ".py",
   "mimetype": "text/x-python",
   "name": "python",
   "nbconvert_exporter": "python",
   "pygments_lexer": "ipython3",
   "version": "3.12.4"
  }
 },
 "nbformat": 4,
 "nbformat_minor": 5
}
